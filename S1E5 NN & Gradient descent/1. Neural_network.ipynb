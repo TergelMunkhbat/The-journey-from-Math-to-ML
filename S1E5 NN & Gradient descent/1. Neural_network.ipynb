{
 "cells": [
  {
   "cell_type": "markdown",
   "id": "211f9c01",
   "metadata": {},
   "source": [
    "# The Journey from Mathematics to Machine Learning"
   ]
  },
  {
   "cell_type": "markdown",
   "id": "86e32cc0",
   "metadata": {},
   "source": [
    "## Series 1: Linear algebra"
   ]
  },
  {
   "cell_type": "markdown",
   "id": "592d6d6e",
   "metadata": {},
   "source": [
    "### Episode 5: Neural network and Gradient descent (Vector Calculus)"
   ]
  },
  {
   "cell_type": "markdown",
   "id": "77e86625",
   "metadata": {},
   "source": [
    "- Simple neural networks (Jupyter Notebook)\n",
    "    1. [The simplest network](#1.-The-simplest-network)\n",
    "    <br>\n",
    "    2. [Multiple inputs network](#2.-Multiple-inputs-network)\n",
    "    <br>\n",
    "    3. [Multiple outputs network](#3.-Multiple-outputs-network)\n",
    "    <br> \n",
    "    4. [Multiple inputs and outputs network](#4.-Multiple-inputs-and-outputs-network)\n",
    "    <br> \n",
    "    5. [Predicting on predictions (Hidden layer)](#5.-Predicting-on-predictions-(Hidden-layer))\n",
    "- Neural learning (Jupyter Notebook)\n",
    "    1. [Mean squared error](#1.-Mean-squared-error)\n",
    "    2. [The simplest learning](#2.-The-simplest-learning)\n",
    "    3. [Gradient descent](#3.-Gradient-descent)\n",
    "    4. [What does it mean? (The Most IMPORTANT part)](#4.-What-does-it-mean?-The-Most-IMPORTANT-part)\n",
    "- Derivatives (Mathematics)\n",
    "    1. Police radar\n",
    "    2. Product, Quotient, Power, and Chain rules\n",
    "    3. Finding maximum or minimum\n",
    "    \n",
    "    "
   ]
  },
  {
   "cell_type": "markdown",
   "id": "89148261",
   "metadata": {},
   "source": [
    "---------------"
   ]
  },
  {
   "cell_type": "markdown",
   "id": "00d8be31",
   "metadata": {},
   "source": [
    "## Purpose"
   ]
  },
  {
   "cell_type": "raw",
   "id": "8afc9638",
   "metadata": {},
   "source": [
    "Predict(Employee) = right_employee (not disrupt time, resource, money ...)"
   ]
  },
  {
   "cell_type": "markdown",
   "id": "3e9292cc",
   "metadata": {},
   "source": [
    "## 1. The simplest network"
   ]
  },
  {
   "cell_type": "markdown",
   "id": "08e146a2",
   "metadata": {},
   "source": [
    "<img src=\"Images/1.The_simplest_NN.PNG\" alt=\"Drawing\" style=\"width: 500px;\"/>"
   ]
  },
  {
   "cell_type": "raw",
   "id": "614c9112",
   "metadata": {},
   "source": [
    "Ex: work experience (years) -> right_employee [0,1]"
   ]
  },
  {
   "cell_type": "raw",
   "id": "9c95abd2",
   "metadata": {},
   "source": [
    "---------------------------------------------\n",
    "Bat - Senior BE developer\n",
    "Sarnai - Marketing specialist\n",
    "...\n",
    "---------------------------------------------\n",
    "Input:\n",
    "Bat's Experience = 5.5 years\n",
    "Sarnai's Experience = 3 years\n",
    "---------------------------------------------\n",
    "Output:\n",
    "Bat's right_employee = 0.9\n",
    "Sarnai's right_employee = 0.85"
   ]
  },
  {
   "cell_type": "markdown",
   "id": "218ebbef",
   "metadata": {},
   "source": [
    "## Import"
   ]
  },
  {
   "cell_type": "code",
   "execution_count": 3,
   "id": "cf2d98d4",
   "metadata": {},
   "outputs": [],
   "source": [
    "import numpy as np"
   ]
  },
  {
   "cell_type": "markdown",
   "id": "0cda7c80",
   "metadata": {},
   "source": [
    "### Data"
   ]
  },
  {
   "cell_type": "code",
   "execution_count": 4,
   "id": "75deae5f",
   "metadata": {},
   "outputs": [],
   "source": [
    "employees_experience = np.array([5.5, 3])\n",
    "\n",
    "right_employees = np.array([0.9, 0.85])"
   ]
  },
  {
   "cell_type": "markdown",
   "id": "159f8dcf",
   "metadata": {},
   "source": [
    "### Network"
   ]
  },
  {
   "cell_type": "code",
   "execution_count": 5,
   "id": "cf3f9364",
   "metadata": {},
   "outputs": [],
   "source": [
    "def neural_network(input: float, weight: float) -> float:\n",
    "    \"\"\"\n",
    "    The simplest neural network\n",
    "    It multiplies the input by a weight\n",
    "    \"\"\"\n",
    "    prediction = input * weight\n",
    "    return prediction"
   ]
  },
  {
   "cell_type": "markdown",
   "id": "d1463d68",
   "metadata": {},
   "source": [
    "### Parameter"
   ]
  },
  {
   "cell_type": "code",
   "execution_count": 22,
   "id": "64968163",
   "metadata": {},
   "outputs": [],
   "source": [
    "#The question is what the best weight is.\n",
    "weight = 0.17"
   ]
  },
  {
   "cell_type": "markdown",
   "id": "e1efe695",
   "metadata": {},
   "source": [
    "### Usage"
   ]
  },
  {
   "cell_type": "code",
   "execution_count": 24,
   "id": "7f6c0549",
   "metadata": {},
   "outputs": [
    {
     "name": "stdout",
     "output_type": "stream",
     "text": [
      "Prediction: 0.935 \n",
      "True value: 0.9\n"
     ]
    }
   ],
   "source": [
    "#Bat's id is 0\n",
    "#Sarnai's id is 1\n",
    "employees_id = 0\n",
    "input = employees_experience[employees_id]\n",
    "pred = neural_network(input, weight)\n",
    "print(f'Prediction: {pred} \\nTrue value: {right_employees[employees_id]}')"
   ]
  },
  {
   "cell_type": "markdown",
   "id": "fecccf74",
   "metadata": {},
   "source": [
    "## 2. Multiple inputs network"
   ]
  },
  {
   "cell_type": "markdown",
   "id": "3b63b3d8",
   "metadata": {},
   "source": [
    "<img src=\"Images/2.Multiple_input_NN.PNG\" alt=\"Drawing\" style=\"width: 500px;\"/>"
   ]
  },
  {
   "cell_type": "raw",
   "id": "1f283f4d",
   "metadata": {},
   "source": [
    "Ex: work experience (years)           \\\n",
    "    current work performance (percent) --> right_employee [0,1]\n",
    "    salary (in millions)              / "
   ]
  },
  {
   "cell_type": "raw",
   "id": "3e13fca8",
   "metadata": {},
   "source": [
    "---------------------------------------------\n",
    "Bat - Senior BE developer\n",
    "Sarnai - Marketing specialist\n",
    "...\n",
    "---------------------------------------------\n",
    "Inputs:\n",
    "Bat's Experience = 5.5 years\n",
    "Bat's Current Work Performance = 0.75\n",
    "Bat's Salary = 2.5\n",
    "\n",
    "Sarnai's Experience = 3 years\n",
    "Sarnai's Current Work Performance = 0.95\n",
    "Sarnai's Salary = 1.8\n",
    "---------------------------------------------\n",
    "Output:\n",
    "Bat's right_employee = 0.9\n",
    "Sarnai's right_employee = 0.85"
   ]
  },
  {
   "cell_type": "markdown",
   "id": "a902f480",
   "metadata": {},
   "source": [
    "### Data"
   ]
  },
  {
   "cell_type": "code",
   "execution_count": 25,
   "id": "c2751493",
   "metadata": {},
   "outputs": [],
   "source": [
    "employees_experience = np.array([5.5, 3])\n",
    "employees_work_performance = np.array([0.75, 0.95])\n",
    "employees_salaries = np.array([2.5, 1.8])\n",
    "\n",
    "right_employees = np.array([0.9, 0.85])"
   ]
  },
  {
   "cell_type": "markdown",
   "id": "adebb3cc",
   "metadata": {},
   "source": [
    "### Network"
   ]
  },
  {
   "cell_type": "code",
   "execution_count": 26,
   "id": "8033f860",
   "metadata": {},
   "outputs": [],
   "source": [
    "def neural_network(input: 'vector', weights: 'vector') -> float:\n",
    "    \"\"\"\n",
    "    Multiple inputs networks\n",
    "    It multiplies three inputs by three weights and then sums them.\n",
    "    \"\"\"\n",
    "    pred = input.dot(weights)\n",
    "    return pred"
   ]
  },
  {
   "cell_type": "markdown",
   "id": "edbf11f0",
   "metadata": {},
   "source": [
    "### Parameters"
   ]
  },
  {
   "cell_type": "code",
   "execution_count": 38,
   "id": "91dff725",
   "metadata": {},
   "outputs": [],
   "source": [
    "weights = np.array([0.1, 0.1, 0.2])"
   ]
  },
  {
   "cell_type": "markdown",
   "id": "c04fa466",
   "metadata": {},
   "source": [
    "### Usage"
   ]
  },
  {
   "cell_type": "code",
   "execution_count": 40,
   "id": "3dc98ffa",
   "metadata": {},
   "outputs": [
    {
     "name": "stdout",
     "output_type": "stream",
     "text": [
      "Prediction: 1.125 \n",
      "True value: 0.9\n"
     ]
    }
   ],
   "source": [
    "#Bat's id is 0\n",
    "#Sarnai's id is 1\n",
    "employees_id = 0\n",
    "input = np.array([employees_experience[employees_id], \n",
    "                 employees_work_performance[employees_id], \n",
    "                 employees_salaries[employees_id]])\n",
    "pred = neural_network(input, weights)\n",
    "print(f'Prediction: {pred} \\nTrue value: {right_employees[employees_id]}')"
   ]
  },
  {
   "cell_type": "markdown",
   "id": "9ac15339",
   "metadata": {},
   "source": [
    "## 3. Multiple outputs network"
   ]
  },
  {
   "cell_type": "markdown",
   "id": "46ba0812",
   "metadata": {},
   "source": [
    "<img src=\"Images/3.Multiple_outputs_NN.PNG\" alt=\"Drawing\" style=\"width: 500px;\"/>"
   ]
  },
  {
   "cell_type": "raw",
   "id": "4a5a6149",
   "metadata": {},
   "source": [
    "Ex:                         /-> right_employee [0,1]\n",
    "    work experience (years) --> happiness_level [0,1]\n",
    "                            \\-> employee_turnover (years)"
   ]
  },
  {
   "cell_type": "raw",
   "id": "fd677da0",
   "metadata": {},
   "source": [
    "---------------------------------------------\n",
    "Bat - Senior BE developer\n",
    "Sarnai - Marketing specialist\n",
    "...\n",
    "---------------------------------------------\n",
    "Inputs:\n",
    "Bat's Experience = 5.5 years\n",
    "\n",
    "Sarnai's Experience = 3 years\n",
    "---------------------------------------------\n",
    "Output:\n",
    "Bat's right_employee = 0.9\n",
    "Bat's happiness_level = 0.7\n",
    "Bat's employee_turnover = 1\n",
    "\n",
    "Sarnai's right_employee = 0.85\n",
    "Sarnai's happiness_level = 0.9\n",
    "Sarnai's employee_turnover = 2.5"
   ]
  },
  {
   "cell_type": "markdown",
   "id": "55c23626",
   "metadata": {},
   "source": [
    "### Data"
   ]
  },
  {
   "cell_type": "code",
   "execution_count": 41,
   "id": "19de598c",
   "metadata": {},
   "outputs": [],
   "source": [
    "employees_experience = np.array([5.5, 3])\n",
    "\n",
    "right_employees = np.array([0.9, 0.85])\n",
    "happiness_levels = np.array([0.7, 0.9])\n",
    "employee_turnover = np.array([1, 2.5])"
   ]
  },
  {
   "cell_type": "markdown",
   "id": "c9c6d838",
   "metadata": {},
   "source": [
    "### Network"
   ]
  },
  {
   "cell_type": "code",
   "execution_count": 42,
   "id": "0e29c2e1",
   "metadata": {},
   "outputs": [],
   "source": [
    "def neural_network(input: float, weights: 'vector') -> 'vector':\n",
    "    \"\"\"\n",
    "    Multiple outputs network\n",
    "    It multiplies the input by three weights - elementwise multiplication\n",
    "    \"\"\"\n",
    "    pred = input * weights\n",
    "    return pred"
   ]
  },
  {
   "cell_type": "markdown",
   "id": "40cc9c50",
   "metadata": {},
   "source": [
    "### Parameters"
   ]
  },
  {
   "cell_type": "code",
   "execution_count": 50,
   "id": "da2c7828",
   "metadata": {},
   "outputs": [],
   "source": [
    "weights = np.array([0.163, 0.130, 0.1])"
   ]
  },
  {
   "cell_type": "markdown",
   "id": "63b65f88",
   "metadata": {},
   "source": [
    "### Usage"
   ]
  },
  {
   "cell_type": "code",
   "execution_count": 52,
   "id": "726009a2",
   "metadata": {},
   "outputs": [
    {
     "name": "stdout",
     "output_type": "stream",
     "text": [
      "Prediction: 0.49, \tTrue value: 0.85\n",
      "Prediction: 0.39, \tTrue value: 0.9\n",
      "Prediction: 0.30, \tTrue value: 2.5\n"
     ]
    }
   ],
   "source": [
    "#Bat's id is 0\n",
    "#Sarnai's id is 1\n",
    "employees_id = 1\n",
    "input = employees_experience[employees_id]\n",
    "pred = neural_network(input, weights)\n",
    "\n",
    "true_value = np.vstack((right_employees, happiness_levels, employee_turnover))\n",
    "for i in range(len(pred)):\n",
    "    print(f'Prediction: {pred[i]:.2f}, \\tTrue value: {true_value[i][employees_id]}')"
   ]
  },
  {
   "cell_type": "markdown",
   "id": "5c8ed934",
   "metadata": {},
   "source": [
    "## 4. Multiple inputs and outputs network"
   ]
  },
  {
   "cell_type": "markdown",
   "id": "ed8fdcc0",
   "metadata": {},
   "source": [
    "<img src=\"Images/4.Multiple_inputs_outputs_NN.PNG\" alt=\"Drawing\" style=\"width: 500px;\"/>"
   ]
  },
  {
   "cell_type": "raw",
   "id": "46a95cf4",
   "metadata": {},
   "source": [
    "Ex: work experience (years)           \\    /-> right_employee [0,1]\n",
    "    current work performance (percent) --> --> happiness_level [0,1]\n",
    "    salary (in millions)              /    \\-> employee_turnover (years)"
   ]
  },
  {
   "cell_type": "raw",
   "id": "5cc02da5",
   "metadata": {},
   "source": [
    "---------------------------------------------\n",
    "Bat - Senior BE developer\n",
    "Sarnai - Marketing specialist\n",
    "...\n",
    "---------------------------------------------\n",
    "Inputs:\n",
    "Bat's Experience = 5.5 years\n",
    "Bat's Current Work Performance = 0.75\n",
    "Bat's Salary = 2.5\n",
    "\n",
    "Sarnai's Experience = 3 years\n",
    "Sarnai's Current Work Performance = 0.95\n",
    "Sarnai's Salary = 1.8\n",
    "---------------------------------------------\n",
    "Output:\n",
    "The value of Bat's right_employee = 0.9\n",
    "The value of Bat's happiness_level = 0.7\n",
    "The value of Bat's employee_turnover = 1\n",
    "\n",
    "The value of Sarnai's right_employee = 0.85\n",
    "The value of Sarnai's happiness_level = 0.9\n",
    "The value of Sarnai's employee_turnover = 2.5"
   ]
  },
  {
   "cell_type": "markdown",
   "id": "5ca8073b",
   "metadata": {},
   "source": [
    "### Data"
   ]
  },
  {
   "cell_type": "code",
   "execution_count": 53,
   "id": "182a2832",
   "metadata": {},
   "outputs": [],
   "source": [
    "employees_experience = np.array([5.5, 3])\n",
    "employees_work_performance = np.array([0.75, 0.95])\n",
    "employees_salaries = np.array([2.5, 1.8])\n",
    "\n",
    "right_employees = np.array([0.9, 0.85])\n",
    "happiness_levels = np.array([0.7, 0.9])\n",
    "employee_turnover = np.array([1, 2.5])"
   ]
  },
  {
   "cell_type": "markdown",
   "id": "85519fd9",
   "metadata": {},
   "source": [
    "### Network"
   ]
  },
  {
   "cell_type": "code",
   "execution_count": 54,
   "id": "3ebfcf38",
   "metadata": {},
   "outputs": [],
   "source": [
    "def neural_network(input: 'vector', weights: 'matrix') -> 'vector':\n",
    "    \"\"\"\n",
    "    Multiple inputs and outputs network\n",
    "    It performs three independent weighted sums of the input\n",
    "    # 1x3 * 3x3 = 1x3\n",
    "    \"\"\"\n",
    "    pred = input.dot(weights)\n",
    "    return pred"
   ]
  },
  {
   "cell_type": "markdown",
   "id": "bbc5f4ae",
   "metadata": {},
   "source": [
    "### Parameters"
   ]
  },
  {
   "cell_type": "code",
   "execution_count": 59,
   "id": "b82d38ae",
   "metadata": {},
   "outputs": [],
   "source": [
    "                     #right? happy?  turnover?\n",
    "weights = np.array([[0.1,    0.17,   0.2],  #experience\n",
    "                    [0.2,    0.21,    0.0],  #performance\n",
    "                    [0.08,    0.3,     0.1]]) #salaries"
   ]
  },
  {
   "cell_type": "markdown",
   "id": "d4f18d19",
   "metadata": {},
   "source": [
    "### Usage"
   ]
  },
  {
   "cell_type": "code",
   "execution_count": 62,
   "id": "5337dfc3",
   "metadata": {},
   "outputs": [
    {
     "name": "stdout",
     "output_type": "stream",
     "text": [
      "Prediction: 0.63, \tTrue value: 0.85\n",
      "Prediction: 1.25, \tTrue value: 0.9\n",
      "Prediction: 0.78, \tTrue value: 2.5\n"
     ]
    }
   ],
   "source": [
    "#Bat's id is 0\n",
    "#Sarnai's id is 1\n",
    "employees_id = 1\n",
    "input = np.array([employees_experience[employees_id], \n",
    "                 employees_work_performance[employees_id], \n",
    "                 employees_salaries[employees_id]])\n",
    "pred = neural_network(input, weights)\n",
    "\n",
    "true_value = np.vstack((right_employees, happiness_levels, employee_turnover))\n",
    "for i in range(len(pred)):\n",
    "    print(f'Prediction: {pred[i]:.2f}, \\tTrue value: {true_value[i][employees_id]}')"
   ]
  },
  {
   "cell_type": "markdown",
   "id": "e0d401b8",
   "metadata": {},
   "source": [
    "## 5. Predicting on predictions (Hidden layer)"
   ]
  },
  {
   "cell_type": "markdown",
   "id": "8e7ade6a",
   "metadata": {},
   "source": [
    "<img src=\"Images/5.Hidden_layer_NN.PNG\" alt=\"Drawing\" style=\"width: 500px;\"/>"
   ]
  },
  {
   "cell_type": "raw",
   "id": "cc448a42",
   "metadata": {},
   "source": [
    "Ex: work experience (years)           \\                  /-> right_employee [0,1]\n",
    "    current work performance (percent) -> hidden layer   --> happiness_level [0,1]\n",
    "    salary (in millions)              /                  \\-> employee_turnover (years)"
   ]
  },
  {
   "cell_type": "raw",
   "id": "de296a3e",
   "metadata": {},
   "source": [
    "---------------------------------------------\n",
    "Bat - Senior BE developer\n",
    "Sarnai - Marketing specialist\n",
    "...\n",
    "---------------------------------------------\n",
    "Inputs:\n",
    "Bat's Experience = 5.5 years\n",
    "Bat's Current Work Performance = 0.75\n",
    "Bat's Salary = 2.5\n",
    "\n",
    "Sarnai's Experience = 3 years\n",
    "Sarnai's Current Work Performance = 0.95\n",
    "Sarnai's Salary = 1.8\n",
    "---------------------------------------------\n",
    "Output:\n",
    "The value of Bat's right_employee = 0.9\n",
    "The value of Bat's happiness_level = 0.7\n",
    "The value of Bat's employee_turnover = 1\n",
    "\n",
    "The value of Sarnai's right_employee = 0.85\n",
    "The value of Sarnai's happiness_level = 0.9\n",
    "The value of Sarnai's employee_turnover = 2.5"
   ]
  },
  {
   "cell_type": "markdown",
   "id": "76c85041",
   "metadata": {},
   "source": [
    "### Data"
   ]
  },
  {
   "cell_type": "code",
   "execution_count": 63,
   "id": "d4bbbb73",
   "metadata": {},
   "outputs": [],
   "source": [
    "employees_experience = np.array([5.5, 3])\n",
    "employees_work_performance = np.array([0.75, 0.95])\n",
    "employees_salaries = np.array([2.5, 1.8])\n",
    "\n",
    "right_employees = np.array([0.9, 0.85])\n",
    "happiness_levels = np.array([0.7, 0.9])\n",
    "employee_turnover = np.array([1, 2.5])"
   ]
  },
  {
   "cell_type": "markdown",
   "id": "4606295d",
   "metadata": {},
   "source": [
    "### Network"
   ]
  },
  {
   "cell_type": "code",
   "execution_count": 64,
   "id": "1776e0bf",
   "metadata": {},
   "outputs": [],
   "source": [
    "def neural_network(input: 'vector', weights: 'list of arrays') -> 'vector':\n",
    "    \"\"\"\n",
    "    Multiple inputs + Hidden layer + Multuple outputs\n",
    "    \"\"\"\n",
    "    hid = input.dot(weights[0])\n",
    "    pred = hid.dot(weights[1])\n",
    "    return pred"
   ]
  },
  {
   "cell_type": "markdown",
   "id": "893e9666",
   "metadata": {},
   "source": [
    "### Parameters"
   ]
  },
  {
   "cell_type": "code",
   "execution_count": 75,
   "id": "f258ad01",
   "metadata": {},
   "outputs": [],
   "source": [
    "                        #hid[0] #hid[1] #hid[2]\n",
    "ih_weights = np.array([[0.08908,   0.2987891,   -0.11],  # experience\n",
    "                       [-0.212836213,   0.32172638,    0.91],  # performance\n",
    "                       [0.21,  -0.41,    3.98]]) # salaries\n",
    "                        #right? happy?  turnover?\n",
    "hp_weights = np.array([[0.15,   0.17,   -0.2],   # hid[0]\n",
    "                       [0.06,   0.21,    0.0],   # hid[1]\n",
    "                       [0.1,    1.3,     0.1]])  # hid[2]\n",
    "weights = [ih_weights, hp_weights]"
   ]
  },
  {
   "cell_type": "markdown",
   "id": "c85e54fc",
   "metadata": {},
   "source": [
    "### Usage"
   ]
  },
  {
   "cell_type": "code",
   "execution_count": 77,
   "id": "25c6c8b4",
   "metadata": {},
   "outputs": [
    {
     "name": "stdout",
     "output_type": "stream",
     "text": [
      "Prediction: 1.18, \tTrue value: 0.9\n",
      "Prediction: 13.36, \tTrue value: 0.7\n",
      "Prediction: 0.83, \tTrue value: 1.0\n"
     ]
    }
   ],
   "source": [
    "#Bat's id is 0\n",
    "#Sarnai's id is 1\n",
    "employees_id = 0\n",
    "input = np.array([employees_experience[employees_id], \n",
    "                 employees_work_performance[employees_id], \n",
    "                 employees_salaries[employees_id]])\n",
    "pred = neural_network(input, weights)\n",
    "\n",
    "true_value = np.vstack((right_employees, happiness_levels, employee_turnover))\n",
    "for i in range(len(pred)):\n",
    "    print(f'Prediction: {pred[i]:.2f}, \\tTrue value: {true_value[i][employees_id]}')"
   ]
  },
  {
   "cell_type": "code",
   "execution_count": null,
   "id": "abfa36f6",
   "metadata": {},
   "outputs": [],
   "source": []
  }
 ],
 "metadata": {
  "kernelspec": {
   "display_name": "Python 3",
   "language": "python",
   "name": "python3"
  },
  "language_info": {
   "codemirror_mode": {
    "name": "ipython",
    "version": 3
   },
   "file_extension": ".py",
   "mimetype": "text/x-python",
   "name": "python",
   "nbconvert_exporter": "python",
   "pygments_lexer": "ipython3",
   "version": "3.9.5"
  }
 },
 "nbformat": 4,
 "nbformat_minor": 5
}
