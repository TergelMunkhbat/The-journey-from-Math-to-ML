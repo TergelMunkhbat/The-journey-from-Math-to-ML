{
 "cells": [
  {
   "cell_type": "markdown",
   "id": "211f9c01",
   "metadata": {},
   "source": [
    "# The Journey from Mathematics to Machine Learning"
   ]
  },
  {
   "cell_type": "markdown",
   "id": "649f7822",
   "metadata": {},
   "source": [
    "## Series 1: Linear algebra"
   ]
  },
  {
   "cell_type": "markdown",
   "id": "592d6d6e",
   "metadata": {},
   "source": [
    "### Episode 5: Neural network and Gradient descent (Vector Calculus)"
   ]
  },
  {
   "cell_type": "markdown",
   "id": "77e86625",
   "metadata": {},
   "source": [
    "- Simple neural networks (Jupyter Notebook)\n",
    "    1. [The simplest network](#1.-The-simplest-network)\n",
    "    <br>\n",
    "    2. [Multiple inputs network](#2.-Multiple-inputs-network)\n",
    "    <br>\n",
    "    3. [Multiple outputs network](#3.-Multiple-outputs-network)\n",
    "    <br> \n",
    "    4. [Multiple inputs and outputs network](#4.-Multiple-inputs-and-outputs-network)\n",
    "    <br> \n",
    "    5. [Predicting on predictions (Hidden layer)](#5.-Predicting-on-predictions-(Hidden-layer))\n",
    "- Neural learning (Jupyter Notebook)\n",
    "    1. [Mean squared error](#1.-Mean-squared-error)\n",
    "    2. [The simplest learning](#2.-The-simplest-learning)\n",
    "    3. [Gradient descent](#3.-Gradient-descent)\n",
    "    4. [What does it mean? (The Most IMPORTANT part)](#4.-What-does-it-mean?-The-Most-IMPORTANT-part)\n",
    "- Derivatives (Mathematics)\n",
    "    1. Police radar\n",
    "    2. Product, Quotient, Power, and Chain rules\n",
    "    3. Finding maximum or minimum\n",
    "    \n",
    "    "
   ]
  },
  {
   "cell_type": "markdown",
   "id": "b0a24843",
   "metadata": {},
   "source": [
    "---------------"
   ]
  },
  {
   "cell_type": "markdown",
   "id": "b9557692",
   "metadata": {},
   "source": [
    "# 1. Mean squared error"
   ]
  },
  {
   "cell_type": "markdown",
   "id": "08e146a2",
   "metadata": {},
   "source": [
    "<img src=\"Images/1.The_simplest_NN.PNG\" alt=\"Drawing\" style=\"width: 500px;\"/>"
   ]
  },
  {
   "cell_type": "raw",
   "id": "614c9112",
   "metadata": {},
   "source": [
    "Ex: work experience (years) -> right_employee [0,1]"
   ]
  },
  {
   "cell_type": "raw",
   "id": "9c95abd2",
   "metadata": {},
   "source": [
    "---------------------------------------------\n",
    "Bat - Senior BE developer\n",
    "...\n",
    "---------------------------------------------\n",
    "Input:\n",
    "Bat's Experience = 5.5 years\n",
    "---------------------------------------------\n",
    "Output:\n",
    "Bat's right_employee = 0.9"
   ]
  },
  {
   "cell_type": "markdown",
   "id": "0375a3ce",
   "metadata": {},
   "source": [
    "### Import"
   ]
  },
  {
   "cell_type": "code",
   "execution_count": 1,
   "id": "f39b4847",
   "metadata": {},
   "outputs": [],
   "source": [
    "import numpy as np"
   ]
  },
  {
   "cell_type": "markdown",
   "id": "7c43cbb9",
   "metadata": {},
   "source": [
    "### Data"
   ]
  },
  {
   "cell_type": "code",
   "execution_count": 2,
   "id": "75deae5f",
   "metadata": {},
   "outputs": [],
   "source": [
    "employees_experience = np.array([5.5])\n",
    "\n",
    "right_employee = np.array([0.9])"
   ]
  },
  {
   "cell_type": "markdown",
   "id": "7190805c",
   "metadata": {},
   "source": [
    "### Network"
   ]
  },
  {
   "cell_type": "code",
   "execution_count": 3,
   "id": "eeae41bf",
   "metadata": {},
   "outputs": [],
   "source": [
    "def neural_network(input: float, weigth: float) -> float:\n",
    "    \"\"\"\n",
    "    A simple neural network\n",
    "    It multiplies the input by a weight\n",
    "    \"\"\"\n",
    "    prediction = input * weigth\n",
    "    return prediction"
   ]
  },
  {
   "cell_type": "markdown",
   "id": "bd1d9c01",
   "metadata": {},
   "source": [
    "### Parameters"
   ]
  },
  {
   "cell_type": "code",
   "execution_count": 4,
   "id": "370e5631",
   "metadata": {},
   "outputs": [],
   "source": [
    "weight = 0.1"
   ]
  },
  {
   "cell_type": "markdown",
   "id": "59f83ee1",
   "metadata": {},
   "source": [
    "### Usage"
   ]
  },
  {
   "cell_type": "code",
   "execution_count": 5,
   "id": "514f5708",
   "metadata": {
    "scrolled": false
   },
   "outputs": [
    {
     "name": "stdout",
     "output_type": "stream",
     "text": [
      "Prediction: 0.55 \n",
      "True value: 0.9\n"
     ]
    }
   ],
   "source": [
    "input = employees_experience[0]\n",
    "pred = neural_network(input, weight)\n",
    "true = right_employee[0]\n",
    "print(f'Prediction: {pred} \\nTrue value: {true}')"
   ]
  },
  {
   "cell_type": "markdown",
   "id": "a0cc9632",
   "metadata": {},
   "source": [
    "### Error"
   ]
  },
  {
   "cell_type": "code",
   "execution_count": 6,
   "id": "3f4146b8",
   "metadata": {
    "scrolled": true
   },
   "outputs": [
    {
     "name": "stdout",
     "output_type": "stream",
     "text": [
      "Error: 0.12249999999999998\n"
     ]
    }
   ],
   "source": [
    "#mean squared error - big error 10 -> 100 and small error 0.01 -> 0.0001\n",
    "#two inputs -> 10, -10 predict such that error = 0 Perfect ha!\n",
    "error = (pred - true) ** 2\n",
    "print(f'Error: {error}')"
   ]
  },
  {
   "cell_type": "markdown",
   "id": "fc951406",
   "metadata": {},
   "source": [
    "### Learning rate parameter"
   ]
  },
  {
   "cell_type": "code",
   "execution_count": 7,
   "id": "80e15ed0",
   "metadata": {},
   "outputs": [],
   "source": [
    "lr = 0.01 #Learning rate"
   ]
  },
  {
   "cell_type": "markdown",
   "id": "1bf964dc",
   "metadata": {},
   "source": [
    "### Comparison"
   ]
  },
  {
   "cell_type": "code",
   "execution_count": 8,
   "id": "4f6f38bb",
   "metadata": {
    "scrolled": true
   },
   "outputs": [
    {
     "name": "stdout",
     "output_type": "stream",
     "text": [
      "Up error: \t0.08702500000000002\n",
      "Current error: \t0.12249999999999998\n",
      "Down error: \t0.16402499999999998\n"
     ]
    }
   ],
   "source": [
    "p_up = neural_network(input, weight+lr)\n",
    "e_up = (p_up - true) ** 2\n",
    "print(f'Up error: \\t{e_up}')\n",
    "\n",
    "print(f'Current error: \\t{error}')\n",
    "\n",
    "p_dn = neural_network(input, weight-lr)\n",
    "e_dn = (p_dn - true) ** 2\n",
    "print(f'Down error: \\t{e_dn}')"
   ]
  },
  {
   "cell_type": "markdown",
   "id": "5286b0f3",
   "metadata": {},
   "source": [
    "### Learning"
   ]
  },
  {
   "cell_type": "code",
   "execution_count": 9,
   "id": "d9b29486",
   "metadata": {},
   "outputs": [
    {
     "name": "stdout",
     "output_type": "stream",
     "text": [
      "Updated weight is: 0.11\n"
     ]
    }
   ],
   "source": [
    "if(e_dn < e_up):\n",
    "    weight -= lr\n",
    "else:\n",
    "    weight += lr\n",
    "print(f'Updated weight is: {weight}')"
   ]
  },
  {
   "cell_type": "markdown",
   "id": "541a65c3",
   "metadata": {},
   "source": [
    "# 2. The simplest learning"
   ]
  },
  {
   "cell_type": "markdown",
   "id": "a6d4e298",
   "metadata": {},
   "source": [
    "<img src=\"https://media0.giphy.com/media/AQRapWCgC7dThyVEYb/giphy.gif?cid=ecf05e47f804q2f7c4g4as1bqifjvabzlmqdqq5k8j7ykw1c&rid=giphy.gif&ct=g\" alt=\"Drawing\" style=\"width: 300px;\"/> \n",
    "<p style=\"text-align:center;\">Finally, I am as intelligent as human</p>"
   ]
  },
  {
   "cell_type": "raw",
   "id": "6252dc43",
   "metadata": {},
   "source": [
    "Ex: work experience (years) -> right_employee [0,1]"
   ]
  },
  {
   "cell_type": "raw",
   "id": "de72ec34",
   "metadata": {},
   "source": [
    "---------------------------------------------\n",
    "Bat - Senior BE developer\n",
    "...\n",
    "---------------------------------------------\n",
    "Input:\n",
    "Bat's Experience = 5.5 years\n",
    "---------------------------------------------\n",
    "Output:\n",
    "Bat's right_employee = 0.9"
   ]
  },
  {
   "cell_type": "markdown",
   "id": "77d6a863",
   "metadata": {},
   "source": [
    "### Data"
   ]
  },
  {
   "cell_type": "code",
   "execution_count": 26,
   "id": "483de727",
   "metadata": {},
   "outputs": [],
   "source": [
    "employees_experience = np.array([0.5])\n",
    "\n",
    "right_employee = np.array([0.9])"
   ]
  },
  {
   "cell_type": "markdown",
   "id": "1862b0fe",
   "metadata": {},
   "source": [
    "### Network"
   ]
  },
  {
   "cell_type": "code",
   "execution_count": 27,
   "id": "fd31cc22",
   "metadata": {},
   "outputs": [],
   "source": [
    "def neural_network(input: float, weigth: float) -> float:\n",
    "    \"\"\"\n",
    "    A simple neural network\n",
    "    It multiplies the input by a weight\n",
    "    \"\"\"\n",
    "    prediction = input * weigth\n",
    "    return prediction"
   ]
  },
  {
   "cell_type": "markdown",
   "id": "5e2f7306",
   "metadata": {},
   "source": [
    "### Parameters"
   ]
  },
  {
   "cell_type": "code",
   "execution_count": 28,
   "id": "7642c37f",
   "metadata": {},
   "outputs": [],
   "source": [
    "weight = 0.1\n",
    "lr = 0.01\n",
    "epoch = 100"
   ]
  },
  {
   "cell_type": "markdown",
   "id": "c4ab7a91",
   "metadata": {},
   "source": [
    "### Learning"
   ]
  },
  {
   "cell_type": "code",
   "execution_count": 29,
   "id": "a0550df7",
   "metadata": {
    "scrolled": true
   },
   "outputs": [
    {
     "name": "stdout",
     "output_type": "stream",
     "text": [
      "Error: 0.7225 \tPrediction: 0.0500 \tTrue: 0.9 \tWeight: 0.1000\n",
      "Error: 0.7140 \tPrediction: 0.0550 \tTrue: 0.9 \tWeight: 0.1100\n",
      "Error: 0.7056 \tPrediction: 0.0600 \tTrue: 0.9 \tWeight: 0.1200\n",
      "Error: 0.6972 \tPrediction: 0.0650 \tTrue: 0.9 \tWeight: 0.1300\n",
      "Error: 0.6889 \tPrediction: 0.0700 \tTrue: 0.9 \tWeight: 0.1400\n",
      "Error: 0.6806 \tPrediction: 0.0750 \tTrue: 0.9 \tWeight: 0.1500\n",
      "Error: 0.6724 \tPrediction: 0.0800 \tTrue: 0.9 \tWeight: 0.1600\n",
      "Error: 0.6642 \tPrediction: 0.0850 \tTrue: 0.9 \tWeight: 0.1700\n",
      "Error: 0.6561 \tPrediction: 0.0900 \tTrue: 0.9 \tWeight: 0.1800\n",
      "Error: 0.6480 \tPrediction: 0.0950 \tTrue: 0.9 \tWeight: 0.1900\n",
      "Error: 0.6400 \tPrediction: 0.1000 \tTrue: 0.9 \tWeight: 0.2000\n",
      "Error: 0.6320 \tPrediction: 0.1050 \tTrue: 0.9 \tWeight: 0.2100\n",
      "Error: 0.6241 \tPrediction: 0.1100 \tTrue: 0.9 \tWeight: 0.2200\n",
      "Error: 0.6162 \tPrediction: 0.1150 \tTrue: 0.9 \tWeight: 0.2300\n",
      "Error: 0.6084 \tPrediction: 0.1200 \tTrue: 0.9 \tWeight: 0.2400\n",
      "Error: 0.6006 \tPrediction: 0.1250 \tTrue: 0.9 \tWeight: 0.2500\n",
      "Error: 0.5929 \tPrediction: 0.1300 \tTrue: 0.9 \tWeight: 0.2600\n",
      "Error: 0.5852 \tPrediction: 0.1350 \tTrue: 0.9 \tWeight: 0.2700\n",
      "Error: 0.5776 \tPrediction: 0.1400 \tTrue: 0.9 \tWeight: 0.2800\n",
      "Error: 0.5700 \tPrediction: 0.1450 \tTrue: 0.9 \tWeight: 0.2900\n",
      "Error: 0.5625 \tPrediction: 0.1500 \tTrue: 0.9 \tWeight: 0.3000\n",
      "Error: 0.5550 \tPrediction: 0.1550 \tTrue: 0.9 \tWeight: 0.3100\n",
      "Error: 0.5476 \tPrediction: 0.1600 \tTrue: 0.9 \tWeight: 0.3200\n",
      "Error: 0.5402 \tPrediction: 0.1650 \tTrue: 0.9 \tWeight: 0.3300\n",
      "Error: 0.5329 \tPrediction: 0.1700 \tTrue: 0.9 \tWeight: 0.3400\n",
      "Error: 0.5256 \tPrediction: 0.1750 \tTrue: 0.9 \tWeight: 0.3500\n",
      "Error: 0.5184 \tPrediction: 0.1800 \tTrue: 0.9 \tWeight: 0.3600\n",
      "Error: 0.5112 \tPrediction: 0.1850 \tTrue: 0.9 \tWeight: 0.3700\n",
      "Error: 0.5041 \tPrediction: 0.1900 \tTrue: 0.9 \tWeight: 0.3800\n",
      "Error: 0.4970 \tPrediction: 0.1950 \tTrue: 0.9 \tWeight: 0.3900\n",
      "Error: 0.4900 \tPrediction: 0.2000 \tTrue: 0.9 \tWeight: 0.4000\n",
      "Error: 0.4830 \tPrediction: 0.2050 \tTrue: 0.9 \tWeight: 0.4100\n",
      "Error: 0.4761 \tPrediction: 0.2100 \tTrue: 0.9 \tWeight: 0.4200\n",
      "Error: 0.4692 \tPrediction: 0.2150 \tTrue: 0.9 \tWeight: 0.4300\n",
      "Error: 0.4624 \tPrediction: 0.2200 \tTrue: 0.9 \tWeight: 0.4400\n",
      "Error: 0.4556 \tPrediction: 0.2250 \tTrue: 0.9 \tWeight: 0.4500\n",
      "Error: 0.4489 \tPrediction: 0.2300 \tTrue: 0.9 \tWeight: 0.4600\n",
      "Error: 0.4422 \tPrediction: 0.2350 \tTrue: 0.9 \tWeight: 0.4700\n",
      "Error: 0.4356 \tPrediction: 0.2400 \tTrue: 0.9 \tWeight: 0.4800\n",
      "Error: 0.4290 \tPrediction: 0.2450 \tTrue: 0.9 \tWeight: 0.4900\n",
      "Error: 0.4225 \tPrediction: 0.2500 \tTrue: 0.9 \tWeight: 0.5000\n",
      "Error: 0.4160 \tPrediction: 0.2550 \tTrue: 0.9 \tWeight: 0.5100\n",
      "Error: 0.4096 \tPrediction: 0.2600 \tTrue: 0.9 \tWeight: 0.5200\n",
      "Error: 0.4032 \tPrediction: 0.2650 \tTrue: 0.9 \tWeight: 0.5300\n",
      "Error: 0.3969 \tPrediction: 0.2700 \tTrue: 0.9 \tWeight: 0.5400\n",
      "Error: 0.3906 \tPrediction: 0.2750 \tTrue: 0.9 \tWeight: 0.5500\n",
      "Error: 0.3844 \tPrediction: 0.2800 \tTrue: 0.9 \tWeight: 0.5600\n",
      "Error: 0.3782 \tPrediction: 0.2850 \tTrue: 0.9 \tWeight: 0.5700\n",
      "Error: 0.3721 \tPrediction: 0.2900 \tTrue: 0.9 \tWeight: 0.5800\n",
      "Error: 0.3660 \tPrediction: 0.2950 \tTrue: 0.9 \tWeight: 0.5900\n",
      "Error: 0.3600 \tPrediction: 0.3000 \tTrue: 0.9 \tWeight: 0.6000\n",
      "Error: 0.3540 \tPrediction: 0.3050 \tTrue: 0.9 \tWeight: 0.6100\n",
      "Error: 0.3481 \tPrediction: 0.3100 \tTrue: 0.9 \tWeight: 0.6200\n",
      "Error: 0.3422 \tPrediction: 0.3150 \tTrue: 0.9 \tWeight: 0.6300\n",
      "Error: 0.3364 \tPrediction: 0.3200 \tTrue: 0.9 \tWeight: 0.6400\n",
      "Error: 0.3306 \tPrediction: 0.3250 \tTrue: 0.9 \tWeight: 0.6500\n",
      "Error: 0.3249 \tPrediction: 0.3300 \tTrue: 0.9 \tWeight: 0.6600\n",
      "Error: 0.3192 \tPrediction: 0.3350 \tTrue: 0.9 \tWeight: 0.6700\n",
      "Error: 0.3136 \tPrediction: 0.3400 \tTrue: 0.9 \tWeight: 0.6800\n",
      "Error: 0.3080 \tPrediction: 0.3450 \tTrue: 0.9 \tWeight: 0.6900\n",
      "Error: 0.3025 \tPrediction: 0.3500 \tTrue: 0.9 \tWeight: 0.7000\n",
      "Error: 0.2970 \tPrediction: 0.3550 \tTrue: 0.9 \tWeight: 0.7100\n",
      "Error: 0.2916 \tPrediction: 0.3600 \tTrue: 0.9 \tWeight: 0.7200\n",
      "Error: 0.2862 \tPrediction: 0.3650 \tTrue: 0.9 \tWeight: 0.7300\n",
      "Error: 0.2809 \tPrediction: 0.3700 \tTrue: 0.9 \tWeight: 0.7400\n",
      "Error: 0.2756 \tPrediction: 0.3750 \tTrue: 0.9 \tWeight: 0.7500\n",
      "Error: 0.2704 \tPrediction: 0.3800 \tTrue: 0.9 \tWeight: 0.7600\n",
      "Error: 0.2652 \tPrediction: 0.3850 \tTrue: 0.9 \tWeight: 0.7700\n",
      "Error: 0.2601 \tPrediction: 0.3900 \tTrue: 0.9 \tWeight: 0.7800\n",
      "Error: 0.2550 \tPrediction: 0.3950 \tTrue: 0.9 \tWeight: 0.7900\n",
      "Error: 0.2500 \tPrediction: 0.4000 \tTrue: 0.9 \tWeight: 0.8000\n",
      "Error: 0.2450 \tPrediction: 0.4050 \tTrue: 0.9 \tWeight: 0.8100\n",
      "Error: 0.2401 \tPrediction: 0.4100 \tTrue: 0.9 \tWeight: 0.8200\n",
      "Error: 0.2352 \tPrediction: 0.4150 \tTrue: 0.9 \tWeight: 0.8300\n",
      "Error: 0.2304 \tPrediction: 0.4200 \tTrue: 0.9 \tWeight: 0.8400\n",
      "Error: 0.2256 \tPrediction: 0.4250 \tTrue: 0.9 \tWeight: 0.8500\n",
      "Error: 0.2209 \tPrediction: 0.4300 \tTrue: 0.9 \tWeight: 0.8600\n",
      "Error: 0.2162 \tPrediction: 0.4350 \tTrue: 0.9 \tWeight: 0.8700\n",
      "Error: 0.2116 \tPrediction: 0.4400 \tTrue: 0.9 \tWeight: 0.8800\n",
      "Error: 0.2070 \tPrediction: 0.4450 \tTrue: 0.9 \tWeight: 0.8900\n",
      "Error: 0.2025 \tPrediction: 0.4500 \tTrue: 0.9 \tWeight: 0.9000\n",
      "Error: 0.1980 \tPrediction: 0.4550 \tTrue: 0.9 \tWeight: 0.9100\n",
      "Error: 0.1936 \tPrediction: 0.4600 \tTrue: 0.9 \tWeight: 0.9200\n",
      "Error: 0.1892 \tPrediction: 0.4650 \tTrue: 0.9 \tWeight: 0.9300\n",
      "Error: 0.1849 \tPrediction: 0.4700 \tTrue: 0.9 \tWeight: 0.9400\n",
      "Error: 0.1806 \tPrediction: 0.4750 \tTrue: 0.9 \tWeight: 0.9500\n",
      "Error: 0.1764 \tPrediction: 0.4800 \tTrue: 0.9 \tWeight: 0.9600\n",
      "Error: 0.1722 \tPrediction: 0.4850 \tTrue: 0.9 \tWeight: 0.9700\n",
      "Error: 0.1681 \tPrediction: 0.4900 \tTrue: 0.9 \tWeight: 0.9800\n",
      "Error: 0.1640 \tPrediction: 0.4950 \tTrue: 0.9 \tWeight: 0.9900\n",
      "Error: 0.1600 \tPrediction: 0.5000 \tTrue: 0.9 \tWeight: 1.0000\n",
      "Error: 0.1560 \tPrediction: 0.5050 \tTrue: 0.9 \tWeight: 1.0100\n",
      "Error: 0.1521 \tPrediction: 0.5100 \tTrue: 0.9 \tWeight: 1.0200\n",
      "Error: 0.1482 \tPrediction: 0.5150 \tTrue: 0.9 \tWeight: 1.0300\n",
      "Error: 0.1444 \tPrediction: 0.5200 \tTrue: 0.9 \tWeight: 1.0400\n",
      "Error: 0.1406 \tPrediction: 0.5250 \tTrue: 0.9 \tWeight: 1.0500\n",
      "Error: 0.1369 \tPrediction: 0.5300 \tTrue: 0.9 \tWeight: 1.0600\n",
      "Error: 0.1332 \tPrediction: 0.5350 \tTrue: 0.9 \tWeight: 1.0700\n",
      "Error: 0.1296 \tPrediction: 0.5400 \tTrue: 0.9 \tWeight: 1.0800\n",
      "Error: 0.1260 \tPrediction: 0.5450 \tTrue: 0.9 \tWeight: 1.0900\n"
     ]
    }
   ],
   "source": [
    "input = employees_experience[0]\n",
    "true = right_employee[0]\n",
    "\n",
    "for iteration in range(epoch):\n",
    "    pred = neural_network(input, weight)\n",
    "    error = (pred - true) ** 2\n",
    "    \n",
    "    print(f'Error: {error:.4f} \\tPrediction: {pred:.4f} \\tTrue: {true} \\tWeight: {weight:.4f}')\n",
    "    \n",
    "    p_up = neural_network(input, weight+lr)\n",
    "    e_up = (p_up - true) ** 2\n",
    "    \n",
    "    p_dn = neural_network(input, weight-lr)\n",
    "    e_dn = (p_dn - true) ** 2\n",
    "    \n",
    "    if(e_dn < e_up):\n",
    "        weight -= lr\n",
    "    else:\n",
    "        weight += lr"
   ]
  },
  {
   "cell_type": "markdown",
   "id": "88dde002",
   "metadata": {},
   "source": [
    "### Questions"
   ]
  },
  {
   "cell_type": "markdown",
   "id": "6fe3a5b6",
   "metadata": {},
   "source": [
    "1. Inefficient?\n",
    "2. learning_rate value?\n",
    "3. Purpose? -> the best weight -> direction and how much?"
   ]
  },
  {
   "cell_type": "markdown",
   "id": "5fb87535",
   "metadata": {},
   "source": [
    "# 3. Gradient descent"
   ]
  },
  {
   "cell_type": "raw",
   "id": "c5106aa4",
   "metadata": {},
   "source": [
    "Ex: work experience (years) -> right_employee [0,1]"
   ]
  },
  {
   "cell_type": "raw",
   "id": "71b7170b",
   "metadata": {},
   "source": [
    "---------------------------------------------\n",
    "Bat - Senior BE developer\n",
    "...\n",
    "---------------------------------------------\n",
    "Input:\n",
    "Bat's Experience = 5.5 years\n",
    "---------------------------------------------\n",
    "Output:\n",
    "Bat's right_employee = 0.9"
   ]
  },
  {
   "cell_type": "markdown",
   "id": "3b5c35fb",
   "metadata": {},
   "source": [
    "### Data"
   ]
  },
  {
   "cell_type": "code",
   "execution_count": 38,
   "id": "ec2a0585",
   "metadata": {},
   "outputs": [],
   "source": [
    "employees_experience = np.array([5.5]) #Notice\n",
    "\n",
    "right_employee = np.array([0.9])"
   ]
  },
  {
   "cell_type": "markdown",
   "id": "640acb51",
   "metadata": {},
   "source": [
    "### Network"
   ]
  },
  {
   "cell_type": "code",
   "execution_count": 35,
   "id": "df6e8da2",
   "metadata": {},
   "outputs": [],
   "source": [
    "def neural_network(input: float, weigth: float) -> float:\n",
    "    \"\"\"\n",
    "    A simple neural network\n",
    "    It multiplies the input by a weight\n",
    "    \"\"\"\n",
    "    prediction = input * weigth\n",
    "    return prediction"
   ]
  },
  {
   "cell_type": "markdown",
   "id": "44425335",
   "metadata": {},
   "source": [
    "### Parameters"
   ]
  },
  {
   "cell_type": "code",
   "execution_count": 36,
   "id": "568d3d0b",
   "metadata": {},
   "outputs": [],
   "source": [
    "weight = 0.1\n",
    "epoch = 100"
   ]
  },
  {
   "cell_type": "markdown",
   "id": "883a6a85",
   "metadata": {},
   "source": [
    "### Learning"
   ]
  },
  {
   "cell_type": "code",
   "execution_count": 37,
   "id": "020b9838",
   "metadata": {},
   "outputs": [
    {
     "name": "stdout",
     "output_type": "stream",
     "text": [
      "Error: 0.1225 \tPrediction: 0.5500 \tTrue: 0.9 \tWeight: 2.0250 \tWeight_change: -1.9250\n",
      "Error: 104.8064 \tPrediction: 11.1375 \tTrue: 0.9 \tWeight: -54.2812 \tWeight_change: 56.3062\n",
      "Error: 89668.4309 \tPrediction: -298.5469 \tTrue: 0.9 \tWeight: 1592.6766 \tWeight_change: -1646.9578\n",
      "Error: 76716946.9523 \tPrediction: 8759.7211 \tTrue: 0.9 \tWeight: -46580.8395 \tWeight_change: 48173.5160\n",
      "Error: 65636142926.8942 \tPrediction: -256194.6170 \tTrue: 0.9 \tWeight: 1362494.5040 \tWeight_change: -1409075.3435\n",
      "Error: 56155822532890.9297 \tPrediction: 7493719.7720 \tTrue: 0.9 \tWeight: -39852959.2921 \tWeight_change: 41215453.7961\n",
      "Error: 48044815915796504.0000 \tPrediction: -219191276.1066 \tTrue: 0.9 \tWeight: 1165699064.2443 \tWeight_change: -1205552023.5365\n",
      "Error: 41105342816958636032.0000 \tPrediction: 6411344853.3439 \tTrue: 0.9 \tWeight: -34096697624.1970 \tWeight_change: 35262396688.4413\n",
      "Error: 35168189863834163347456.0000 \tPrediction: -187531836933.0835 \tTrue: 0.9 \tWeight: 997328405512.7120 \tWeight_change: -1031425103136.9091\n",
      "Error: 30088584440376610812592128.0000 \tPrediction: 5485306230319.9160 \tTrue: 0.9 \tWeight: -29171855861241.8750 \tWeight_change: 30169184266754.5859\n",
      "Error: 25742664525269716408435998720.0000 \tPrediction: -160445207236830.3125 \tTrue: 0.9 \tWeight: 853276783941329.8750 \tWeight_change: -882448639802571.7500\n",
      "Error: 22024458417901069191626524459008.0000 \tPrediction: 4693022311677314.0000 \tTrue: 0.9 \tWeight: -24958345930283892.0000 \tWeight_change: 25811622714225220.0000\n",
      "Error: 18843300705165485922220043766071296.0000 \tPrediction: -137270902616561408.0000 \tTrue: 0.9 \tWeight: 730031618460803840.0000 \tWeight_change: -754989964391087744.0000\n",
      "Error: 16121621459563145182476529918336303104.0000 \tPrediction: 4015173901534420992.0000 \tTrue: 0.9 \tWeight: -21353424839978512384.0000 \tWeight_change: 22083456458439315456.0000\n",
      "Error: 13793054759997494956645054091573730476032.0000 \tPrediction: -117443836619881824256.0000 \tTrue: 0.9 \tWeight: 624587676569371541504.0000 \tWeight_change: -645941101409350057984.0000\n",
      "Error: 11800820413100356115899937760049776100900864.0000 \tPrediction: 3435232221131543412736.0000 \tTrue: 0.9 \tWeight: -18269189539654115786752.0000 \tWeight_change: 18893777216223487983616.0000\n",
      "Error: 10096339414683173832668608297045211113716711424.0000 \tPrediction: -100480542468097643118592.0000 \tTrue: 0.9 \tWeight: 534373794034882950725632.0000 \tWeight_change: -552642983574537037152256.0000\n",
      "Error: 8638049390474874965410367743301052170170726875136.0000 \tPrediction: 2939055867191856296099840.0000 \tTrue: 0.9 \tWeight: -15630433475520328154218496.0000 \tWeight_change: 16164807269555210433855488.0000\n",
      "Error: 7390391131638160845648476301553943719583299651239936.0000 \tPrediction: -85967384115361801626976256.0000 \tTrue: 0.9 \tWeight: 457190179158969600121503744.0000 \tWeight_change: -472820612634489908948369408.0000\n",
      "Error: 6322941512562174867623290217996981415341381300776861696.0000 \tPrediction: 2514545985374333041186439168.0000 \tTrue: 0.9 \tWeight: -13372812740399862332562341888.0000 \tWeight_change: 13830002919558831176769601536.0000\n",
      "Error: 5409671647841476526847877878698377659704034729154647687168.0000 \tPrediction: -73550470072199245028116135936.0000 \tTrue: 0.9 \tWeight: 391154772656695989720122916864.0000 \tWeight_change: -404527585397095865246824792064.0000\n",
      "Error: 4628312199206373488277241513556364237522287015070088766160896.0000 \tPrediction: 2151351249611827943460676042752.0000 \tTrue: 0.9 \tWeight: -11441277100208357136363641896960.0000 \tWeight_change: 11832431872865053126083764813824.0000\n",
      "Error: 3959810355933502416778663264238393611639072153739296841702309888.0000 \tPrediction: -62927024051145960872300309905408.0000 \tTrue: 0.9 \tWeight: 334657355181094465941884895232000.0000 \tWeight_change: -346098632281302802812050213961728.0000\n",
      "Error: 3387865247648357185341612474136905203749427654240327756630580002816.0000 \tPrediction: 1840615453496019454593975866884096.0000 \tTrue: 0.9 \tWeight: -9788727639047012606382576410558464.0000 \tWeight_change: 10123384994228107576727619571286016.0000\n",
      "Error: 2898530460941148256666223282177075148219059012480073339407394318319616.0000 \tPrediction: -53838002014758573370329436382035968.0000 \tTrue: 0.9 \tWeight: 286320283442125139777507819083792384.0000 \tWeight_change: -296109011081172158148497918528585728.0000\n",
      "Error: 2479873967488961342332396885322094089628355161001926728926954506650910720.0000 \tPrediction: 1574761558931688287223037078670409728.0000 \tTrue: 0.9 \tWeight: -8374868290682160624416636850698977280.0000 \tWeight_change: 8661188574124285874874609112040079360.0000\n",
      "Error: 2121687171309774720849145091428697716884269585724798014432117915995422588928.0000 \tPrediction: -46061775598751885205178933754961330176.0000 \tTrue: 0.9 \tWeight: 244964897502453197378742912344886607872.0000 \tWeight_change: -253339765793135368628484135652287315968.0000\n",
      "Error: 1815235980503718623424439774335730506670450429097150239511160909130719146541056.0000 \tPrediction: 1347306936263492510025222291982552924160.0000 \tTrue: 0.9 \tWeight: -7165223251946755305528524789901860798464.0000 \tWeight_change: 7410188149449208654022995154075394244608.0000\n",
      "Error: 1553047833569712708240775113929943421353514381790424196290932719964892467933741056.0000 \tPrediction: -39408727885707155389332705959089409097728.0000 \tTrue: 0.9 \tWeight: 209582780119442599335801357985089889239040.0000 \tWeight_change: -216748003371389352223478243545733400625152.0000\n",
      "Error: 1328729487108487333525332845993924839791200352510233607311097775148849651659088855040.0000 \tPrediction: 1152705290656934296346907468917994390814720.0000 \tTrue: 0.9 \tWeight: -6130296318493695411602170078373741810679808.0000 \tWeight_change: 6339879098613138010937971436358831699918848.0000\n",
      "Error: 1136811121814255196607822996425632343085222149078224978587895510589276913472489689972736.0000 \tPrediction: -33716629751715327239692014001816129756987392.0000 \tTrue: 0.9 \tWeight: 179311167315940614310224221214657171045744640.0000 \tWeight_change: -185441463634434304770066234151509813259927552.0000\n",
      "Error: 972612965407208911329105867723996569593206982319639248558591135612162043244957803338530816.0000 \tPrediction: 986211420237673438127355102378867635909558272.0000 \tTrue: 0.9 \tWeight: -5244851643991263414232472613265621216772751360.0000 \tWeight_change: 5424162811307203751244128034555096810414669824.0000\n",
      "Error: 832131180216205111157904867661858935540533322303513709870284187940095962344854948498148163584.0000 \tPrediction: -28846684041951946242977398916502113698843721728.0000 \tTrue: 0.9 \tWeight: 153411910586744440922143221427496004126867718144.0000 \tWeight_change: -158656762230735709406978094953679231330453291008.0000\n",
      "Error: 711940232873726808752491835081096280238940350120767535515045285985010303833727260801483910676480.0000 \tPrediction: 843765508227094354083354105070381538882392948736.0000 \tTrue: 0.9 \tWeight: -4487298384662274445689075545504591187884539641856.0000 \tWeight_change: 4640710295249019109717724407100461855431171506176.0000\n",
      "Error: 609109365488027826635808954740618427782639051134886078303229296383655218242944867366957726511923200.0000 \tPrediction: -24680141115642508802252808183421797967052926877696.0000 \tTrue: 0.9 \tWeight: 131253477751371514880181867027366947702537982050304.0000 \tWeight_change: -135740776136033795816242015741406074553542933217280.0000\n",
      "Error: 521131131510350789843428114125370910961998036819038991108710341122368866328099231504450469808903815168.0000 \tPrediction: 721894127632543331841000268650518212363958901276672.0000 \tTrue: 0.9 \tWeight: -3839164224227617059475568820222209389763059777536000.0000 \tWeight_change: 3970417701978988242048751741020608111513832689500160.0000\n",
      "Error: 445860253702824552659571669292937854732763494245338558569977300539306513134169092198751379228205772701696.0000 \tPrediction: -21115403233251893827115628511222151643696828776448000.0000 \tTrue: 0.9 \tWeight: 112295553558657784368152434357425022708691835409137664.0000 \tWeight_change: -116134717782885406744539986317310723713683136308051968.0000\n",
      "Error: 381461313308622751603943525092444672988917944146960385611396108361874368588167768432963665841581035947556864.0000 \tPrediction: 617625544572617835292486321524491591358718059235770368.0000 \tTrue: 0.9 \tWeight: -3284644941590740182134634738675354930998779703474520064.0000 \tWeight_change: 3396940495149398094108674768384703752472949325796737024.0000\n",
      "Error: 326363994867608513612502732836661174898153105041872799265515958782450247200248175637785916123242592553045852160.0000 \tPrediction: -18065547178749070661458124141775988657118680937341648896.0000 \tTrue: 0.9 \tWeight: 96075864541529146414190846515461801902906320861295280128.0000 \tWeight_change: -99360509483119889999149150463521791467651174882451914752.0000\n",
      "Error: 279224795358918299065344226946488905390536831977658392679428210667202378380406156152448072735390451032020031111168.0000 \tPrediction: 528417254978410327056121138775101572121959640370289573888.0000 \tTrue: 0.9 \tWeight: -2810219037839727608838332450867473521455921949908966309888.0000 \tWeight_change: 2906294902381256885920952195023305293294677524569254789120.0000\n",
      "Error: 238894263979264567305975113717793913745726660939161819505256746136489419087749830463099274866407593784251049412919296.0000 \tPrediction: -15456204708118502371284544070332584247750967739695287500800.0000 \tTrue: 0.9 \tWeight: 82198906856812042053760390749740484984590762810897437032448.0000 \tWeight_change: -85009125894651767223454717111321052400577498689891863625728.0000\n",
      "Error: 204388973725759565300803014530679543737370137697892235260199307130823920425470710269701043591661574791942984626618761216.0000 \tPrediction: 452093987712466214570123250225605311263460490973664774193152.0000 \tTrue: 0.9 \tWeight: -2404318025561752104630799687695154014660864528571716562059264.0000 \tWeight_change: 2486516932418564224737168273302075495020469245651879270023168.0000\n",
      "Error: 174867541333245131933708650885288950320570445498325388090202653345402748063392716797592714517732975744807223394329451036672.0000 \tPrediction: -13223749140589635683439590341098421419206024001209980852109312.0000 \tTrue: 0.9 \tWeight: 70326302247681242370227331305896312468114805666214257646108672.0000 \tWeight_change: -72730620273242994831670054170081436747347162557159758303854592.0000\n",
      "Error: 149610110831924523245596625831739057902534097988262508617506538182306336365857553819950956222010909676425737999732017362632704.0000 \tPrediction: 386794662362246833036250322182429718574631431164178417053597696.0000 \tTrue: 0.9 \tWeight: -2057044340744676247985297107516034751962056020969078307652894720.0000 \tWeight_change: 2127370642992357490355524438821931064430170826635292565299003392.0000\n",
      "Error: 128000800448638417267759028511018591262809044870422807339091693230293326142660018138144786159299900105305658729819289626773291008.0000 \tPrediction: -11313743874095719729294543424063920686712516294400685606074056704.0000 \tTrue: 0.9 \tWeight: 60168546966781777878629779732126774413902285449385633557956788224.0000 \tWeight_change: -62225591307526459241870807497803022878761255977345280661373583360.0000\n",
      "Error: 109512684833838198039660561323438321880904426353695377627534872046838407527033213847757497714118928090854097714925748651741363044352.0000 \tPrediction: 330927008317299784178470337850308932091201900836753063192492507136.0000 \tTrue: 0.9 \tWeight: -1759929998778367257251205952741815919047802742027775201702498533376.0000 \tWeight_change: 1820098545745148976669770239237825965314311718825840049023153602560.0000\n",
      "Error: 93694946418150713726702862197811068601692665162272892209806455327684785078930258266319295800387411285354758108938230837564804522049536.0000 \tPrediction: -9679614993281020101953842318435561084834573668836990125323107434496.0000 \tTrue: 0.9 \tWeight: 51477952464267239187906316074831152385965863507522687136468551335936.0000 \tWeight_change: -53237882463045607567590779497706409485443617775655821433927242874880.0000\n",
      "Error: 80161882594879076207428023711469176218197249222075489320668824581787977282251164929873196540924418051931613762565362506018864192972390400.0000 \tPrediction: 283128738553469833492416857933706397009691473709060524782676120436736.0000 \tTrue: 0.9 \tWeight: -1505730109579816761212036511457257089695234194609776720018454366650368.0000 \tWeight_change: 1557208062044084012372564240546844948005786207729089904176322310045696.0000\n",
      "Error: 68583500677581214900172021825134798764436689623372441063701335106670082710765399678703495959927739369512298791668189496497386254636809191424.0000 \tPrediction: -8281515602688991516199401684188538461546963692093504126903133061251072.0000 \tTrue: 0.9 \tWeight: 44042605705209638301942156225704670101953471656002327549030289926782976.0000 \tWeight_change: -45548335814789454105344479695981390717681813881668864507336792928681984.0000\n",
      "Error: 58677471298463076606986835358667960350811000536261990754072279574818214153896226257543440323394098254455126603261105572153463740202369241055232.0000 \tPrediction: 242234331378653010660681859241375685560744094108012801519666594597306368.0000 \tTrue: 0.9 \tWeight: -1288246216877381944851736723456083334215691480343015018708961935296036864.0000 \tWeight_change: 1332288822582591485073964264264901069383435214379229594658688405472280576.0000\n",
      "Error: 50202244037791317304977103303248475737439313929547322152163726799650538763009397412290925844158221076565029672448208033217147201702522746967162880.0000 \tPrediction: -7085354192825600696684551979008458338186303141886582602899290644128202752.0000 \tTrue: 0.9 \tWeight: 37681201843663418748362431467750055607914264196199981246059414375391821824.0000 \tWeight_change: -38969448060540800693214168191206138942129955676542996264768376310687858688.0000\n",
      "Error: 42951157414582830250429141858349501949816992862906300420995420476260226557808941371945718285213982795532464938617657107814251428223198017541717884928.0000 \tPrediction: 207246610140148803115993373072625305843528453079099896853326779064655020032.0000 \tTrue: 0.9 \tWeight: -1102175153927154822630752529604627739129388377924189800581285425487244427264.0000 \tWeight_change: 1139856355770818341812742727259270016109933413443052439465031951287188455424.0000\n",
      "Error: 36747399615514011530277593194533274962034680647059926538622245972409004213209957227568910802102076855817106361968589030587628641210604811400318583570432.0000 \tPrediction: -6061963346599351524469138912825452565211636078583043903197069840179844349952.0000 \tTrue: 0.9 \tWeight: 32238623252369280168887555749925636911496702395445154189205592478294734798848.0000 \tWeight_change: -33340798406296434991518308279530264650626090773369343989786877903781979226112.0000\n",
      "Error: 31439697083548209803894286753317492519347698526456882784627779373595874520619007194636760401161289535723118791216728126778845293116386366904701193824501760.0000 \tPrediction: 177312427888031037715005468106610451929307678492623142996224771065035370790912.0000 \tTrue: 0.9 \tWeight: -942979730131801369413872925512781929189060205032128441490722872198857733701632.0000 \tWeight_change: 975218353384170733143538782730201894282585709168028926834484141382379904172032.0000\n",
      "Error: 26898625836043210090975564009626704738761875770182796266634586311005595470346077165485271033794365573318994547853908615548486856863451385326760321835316805632.0000 \tPrediction: -5186388515724907531776301090320300610539831127676706428198975797093717535358976.0000 \tTrue: 0.9 \tWeight: 27582157106355188409851225750042829273810828439839251930867778378236725362163712.0000 \tWeight_change: -28525136836486989779265098675555611202999888644871380372358501250435583095865344.0000\n",
      "Error: 23013455566849712854396102648529940063910252226873418477733897139509494784277970720122217843099830693529872272804842950737477834053465173266605867126794232004608.0000 \tPrediction: 151701864084953523090145283055587223766206095960311845757885856011663082703028224.0000 \tTrue: 0.9 \tWeight: -806778095360889135929801996777093552481308857506659740289956729411354602349002752.0000 \tWeight_change: 834360252467244350667726139666433056234626606864107071944598357926869141288910848.0000\n",
      "Error: 19689449578412857824306687353467475293571186555068742115783662045053794902041315659794287520881795584504462822308328525874803083674228438275426597149240734578114560.0000 \tPrediction: -4437279524484890563550785987945574632401281767297925528280048213409784075852447744.0000 \tTrue: 0.9 \tWeight: 23598259289306012122968270993639167863266571372744900232103170460815795444168785920.0000 \tWeight_change: -24405037384666899784525989630615647644895492658865507507861791582539592486164103168.0000\n",
      "Error: 16845554704930854233199552584894507385365273599651596987300099948359309993694010578974782180104120668637402667050683051240866389393167419618452982068624252874115776512.0000 \tPrediction: 129790426091183064991328823768100436081277699611370034174245911125701094873952681984.0000 \tTrue: 0.9 \tWeight: -690249084212200828479373592761763358916876347102521116703034076642682425672814559232.0000 \tWeight_change: 713847343501506830492361863573912603780012260842904514321208088650783540703129501696.0000\n",
      "Error: 14412424897237402755553790767100960394978414825821235246747779611026528073953797310164272918224060045542978427929251479321973912759065349513884616128778424984734151999488.0000 \tPrediction: -3796369963167104448796768091587139295374759560985343447318109731372463416786039078912.0000 \tTrue: 0.9 \tWeight: 20189785713206873424223277573762384408308180542159822454449414065581286517821518381056.0000 \tWeight_change: -20880034797419073605663931154908792695216694800791207403860982001250229397007686959104.0000\n",
      "Error: 12330730276142673783807071532107279602556434703148515480111232721957360986648485341426058947103544269852126556219372369339359097730799455652518020844786280944420448767049728.0000 \tPrediction: 111043821422637800382354853260411220528317061843366297273917291275503798266756239196160.0000 \tTrue: 0.9 \tWeight: -590551232111300973464757641033989029019388761380151192943223910586597162649144006803456.0000 \tWeight_change: 610741017824507853790727265398315200862452804199336467848782296822565004329489748983808.0000\n",
      "Error: 10549710421882313477288650607301068695085701848671057557236990871874462970800701700400743866792820989968894831626233939160985351863232526644648670764646000564141207147620859904.0000 \tPrediction: -3248031776612155243628225477037919060650544391158424321969987953500099511969904456630272.0000 \tTrue: 0.9 \tWeight: 17273623539255554191625781066462812992031730947180069448504632490378168744389981474127872.0000 \tWeight_change: -17864174771366853619099357026410513635665806558506519292399446634798177550633699349889024.0000\n",
      "Error: 9025936622821688588610851407494672458067910945429037373820289657246438996557628651560225212263357055311109757251748767298754187222935547253466168404257170538682740130477139558400.0000 \tPrediction: 95004929465905553354482990200698460206067022438245929449227169323936802458963501985562624.0000 \tTrue: 0.9 \tWeight: -505253488523225028128666090161833968973881908807379890726890530054891323455245707884101632.0000 \tWeight_change: 522527112062480557584432964330916167799748629353700738590620606286604078497148871261552640.0000\n",
      "Error: 7722252901862882000000694740385070936671485976377918983102717086955671495187339059036438822416356355335244524645258920667210309885819080966745551792365629909327180717629966380957696.0000 \tPrediction: -2778894186877737485090345277165191189359790427120411879559443815242482299329656069271060480.0000 \tTrue: 0.9 \tWeight: 14778664539304331026790020788430120479173925392808100433891081053739148003075065790379065344.0000 \tWeight_change: -15283918027827555941840474732775357354816767254068695311659002183754426006747514615535501312.0000\n",
      "Error: 6606869998350061231297030953859612965882917790851460070399043316870028754658007393169027824583516323631381839504644843164601850555518722348637387605387483231876321076147466573130498048.0000 \tPrediction: 81282654966173817933468022836767332395511628519321712075385680194614594342125736661620883456.0000 \tTrue: 0.9 \tWeight: -432275937774651662179529921814593547216250109181215635358699628814739681529042235477607841792.0000 \tWeight_change: 447054602313956005871079702934482542148500519899263657243995282672915521347790552133485461504.0000\n",
      "Error: 5652590212963374099921181778135236971736356869939789997053169019882675556230220539756337385307834044933424942421865699346874544443060656199270935846368245422430512139105486993049962676224.0000 \tPrediction: -2377517657760584113039392260651215653796629348324709031155351792070927238545336293148560719872.0000 \tTrue: 0.9 \tWeight: 12644071179908560670056904418476603989737748784884914402820773563473950031826347357056652017664.0000 \tWeight_change: -13076347117683212158548300484316904401597521381034268258274496193827843654169013580664565399552.0000\n",
      "Error: 4836144214078476293544234244799230324520176676927179910036120424034269812220242438618433458358017626894673181654863235144953538681799220081440708740021697622943055847453752257248982053421056.0000 \tPrediction: 69542391489497080906302832606032631777853978108357240737034622623733188228062894273896474738688.0000 \tTrue: 0.9 \tWeight: -369839082012325363935200969147052476239965769282008127475352349714319314277984785756663142416384.0000 \tWeight_change: 382483153192233937573971868144942967669653839039938721444411405829536436729060541999990314106880.0000\n",
      "Error: 4137623634157515849616820388452705419772074726756379284810601022994022308382518018471590556145506021631882674409644309919040306640735480640871584899648936343823255941249108224365376945875058688.0000 \tPrediction: -2034114951067789560929155019814680676188156055499253521988670072236725016731199333713169658937344.0000 \tTrue: 0.9 \tWeight: 10817793148860518169743946671927964152688401727135227377450047428515168888980139742490127992094720.0000 \tWeight_change: -11187632230872843415108048262063232515191678847520817863176935480613550626853558504143746383216640.0000\n",
      "Error: 3539995620498890810121959238156868997127433050250414041186381841556321137862117277072689409927300179315461368125533257444125855778198296472374731227107772547051455572928497869488652961338129121280.0000 \tPrediction: 59497862318732851830729296759792348659573227881586432843950689618688430111863824969344419977232384.0000 \tTrue: 0.9 \tWeight: -316420449604170182076367906020438320033260498680331611408082175569111206506055348674093910048374784.0000 \tWeight_change: 327238242753030696451836672563989192546374863642781474249581365473916372950089375645286605999046656.0000\n",
      "Error: 3028687503063082505581537080731012441445869533801927435744806414029373686076786234114795334708323553386363319950810305928084924219887637577044338461730131145267238599524721534003403271511638877929472.0000 \tPrediction: -1740312472822936092482627806193460959532709625094272611607272546199151694462011124218654874260209664.0000 \tTrue: 0.9 \tWeight: 9255298150921979480037739787070232815827149615802518571360977515734063856298624117002927238975324160.0000 \tWeight_change: -9571718600526149237155287518712436872228117996838089354742563648647654788970714835291708760384339968.0000\n",
      "Error: 2591231451839409207963609848055593887357193388925953297693381679964358441180552319917859109937850156201587438130356959093662719761042482748762899119620315515017784568566559206336201737564297317100552192.0000 \tPrediction: 50904139830070884226204230490292674107856462651635492178875117758328069331923818035159672006551535616.0000 \tTrue: 0.9 \tWeight: -270717470914467881821416635683810403857921488144673781770045331102930796217469965337470983591849623552.0000 \tWeight_change: 279972769065389859358785483245151565754286730936957393698999469566525338821956179715569625625616449536.0000\n",
      "Error: 2216960459014354256920165241668911260065170348928590410515983426514887005727704238672667567755519752739230643156670658622585469922384975065383908457301593558947600886208438656382827075328439200950574383104.0000 \tPrediction: -1488946090029573365559142634066789788574263439383857052874504033483235549210584087267324691396840914944.0000 \tTrue: 0.9 \tWeight: 7918486024248185908498188332188519645703042011053262565546311676562955784701729517035031888640799145984.0000 \tWeight_change: -8189203495162653386244475384920683298312886879906003765695734484820866160542218256680411549549281148928.0000\n",
      "Error: 1896748232715468800657826521123098425869175944821783076659748648998647717037820623796173162609132362570294902806140995313894649977699950185029262139837157292605958683939426338293256751293578042692343015931904.0000 \tPrediction: 43551673133365024486032981466183426672895723648076304512329317410487126577715419916330663437657897435136.0000 \tTrue: 0.9 \tWeight: -231615716209259448764683209731820327055223438053366412252264934081116240392733080022783617018477636747264.0000 \tWeight_change: 239534202233507630694595506785715709457868494889852954014162039378897456653722994394542672806851431628800.0000\n",
      "Error: 1622786659852628185494211201976745028164203942447932249992665620641889723409693441978532456466217359090421411991117521401590483697109690862060780066988672178539054337492711136023395472892901035362851378876645376.0000 \tPrediction: -1273886439150926856805352697732803955998105324405647084885279358840250615496101116057582562794150882705408.0000 \tTrue: 0.9 \tWeight: 6774759699120838422808192278930326920656675253160361386762739794691531725784295664104959522360032388710400.0000 \tWeight_change: -7006375415330098221688433921151943325101001386575599229736134890105441044263668476912029036202006400729088.0000\n",
      "Error: 1388395411670164445020477415931301386485795200799329660645991932234705638021766429054541982994874532775809605040929179011095943050924053772423308882060830635660104146141790764627284560494408122682834998970212679680.0000 \tPrediction: 37261178345164613362481033868602884332057402301760148678663462536739675127954075506958577136316884321304576.0000 \tTrue: 0.9 \tWeight: -198161721199284551367125304674274227053224544681545744757633453484866686567086714459217612834076480845643776.0000 \tWeight_change: 204936480898405385715861544284232381436989843115949784041459405947685717020590111414559972829763100867559424.0000\n",
      "Error: 1187859049397055020395115716536760957658606685956318832341931351909866883943404647163573602119519003596430130190617034070197534442267673354021276935202255988695079603595599675552237682588440634543847013703451733393408.0000 \tPrediction: -1089889466596064967334037933004953488202472966648400442519995396856806755762482550185495278160646046782324736.0000 \tTrue: 0.9 \tWeight: 5796230345079072247488873385224531873338280539083847459926432450747890307274612276839393677635279993507414016.0000 \tWeight_change: -5994392066278356929226301175305915621572029141965595511978043098852677034554687749979014475322905670090489856.0000\n",
      "Error: 1016287657949767756363000533259864248080832925382418409086458405252370803829871504272617754754121846884992909812306519631685707926492088434430667992105603854712076039543978707195646281428877673001163715627260860755345408.0000 \tPrediction: 31879266897934897361188803618734925303360542964961161029595378479113396690010367522616665226994039964290777088.0000 \tTrue: 0.9 \tWeight: -169539737593562871582748905583872566650698245493015485869662689640050674093413689653098068901459088337287512064.0000 \tWeight_change: 175335967938641943830237778969097098524036526032099333329589122090798564400688301929937462579094368330794926080.0000\n",
      "Error: 869497609354648175289093847274597185584792957103839571818564911254720405899281612978095550656441534309693504227105871991718699490740055713034047761414427062680436021568672002688344444862397354489518462781466750765380927488.0000 \tPrediction: -932468556764595810392517698843409135289947429661211067616773873931628472725037854203130986619279282909472620544.0000 \tTrue: 0.9 \tWeight: 4959037324611713785202921511676897340644085187550379270017270160579610152091568408464473419601999620685768425472.0000 \tWeight_change: -5128577062205277023908442216167190318939139180935164453226772630269355660832758442561586857051053244219664629760.0000\n",
      "Error: 743909548403486119343527624493032350552788075293300188665267511863544866056236084363862782032246406409073049757842810369989284417022922456850579078162269594060742700920903066357374992537515567491397614650302515728293786812416.0000 \tPrediction: 27274705285364425818616068314222935373542468531527085985094985883187855836503626246554603807810997913771726340096.0000 \tTrue: 0.9 \tWeight: -145051841744892628217185454216549247213839491735848593648005152196953596948678375947585847523358488905058726445056.0000 \tWeight_change: 150010879069504342002388375728226144554483576923398972918022422357533207100769944356050320942960488525744494870528.0000\n",
      "Error: 636461113005957510102885295045302250355238917211096906347367018871598783034316521929607568806856409851042349900424787790784094331090575870020942386324375209544996999617728378560402433081857511125625405174813195668408154244251648.0000 \tPrediction: -797785129596909386842934848721898223035422607121499597777483621670356144912399617400690936397974088243036213477376.0000 \tTrue: 0.9 \tWeight: 4242766371038109136122126512692136252762374042283734528701244197815782476680182420378276752626494197901214011621376.0000 \tWeight_change: -4387818212783001901042482265846930773257602728870918456922338780838513350239523696947925050110847888275846302007296.0000\n",
      "Error: 544532260996159492354567743545886511933490571464408147945338775244881538000063618959932507025599936725442827893702191083762470634195225990131397907105458518787225783412107627286458630972902954535576077174038757900835488354623553536.0000 \tPrediction: 23335215040709598334827311634671315564253608504641845223833591056425921749191722703371647839991785267882647168745472.0000 \tTrue: 0.9 \tWeight: -124100916352864680064990043890741156071255802395030390187506433442617459824546337640701036967796382357818462649188352.0000 \tWeight_change: 128343682723902795216051663556716084348399301010772879437423612596767442472095687688450061518706665420380913474207744.0000\n",
      "Error: 465881382548526680151554010751229668831484746760333636128390132502531538608929753562260256027091045484075986850246110405677104426713793524374726541869962230440476520446395663581958465524590558389622189746676849086307033250113842577408.0000 \tPrediction: -682555039940755766604453938795219450861933638584123530269318554652945266144252133943291693715391181650159668847181824.0000 \tTrue: 0.9 \tWeight: 3629951803321292018761500821218870428689361392876678103468390170002882012562675547767779284871847730929954299825881088.0000 \tWeight_change: -3754052719674156856308543049486470139580777547740446799084095627756794895042705546925096264194710585380721508134944768.0000\n",
      "Error: 398590640356673891289235774404819786017932300585508341083774807322169570999116774899303332511864974063450613306257050336366561086894763752512119874137499669929049449801198004104307034320573361874266463466471733950509423389817980380512256.0000 \tPrediction: 19964734918267106663124440061154839997152057802932799099487520243678234794091990753670753861835398865334121966944124928.0000 \tTrue: 0.9 \tWeight: -106176090247147792388678177337328538998204675954809438822067473935577874454954172633629495775061900647530223246759690240.0000 \tWeight_change: 109806042050469092246546275780862146377942019337241090351295104426854128617478701554668824190497057211531403997210476544.0000\n",
      "Error: 341019204740156788816237271192683241864726436574138689178093019586809787377411617259922802629480466448777325330055586184687291877418638275425333959445741616193408149824505619391434330627776592290608025059231412042295134381610812818809946112.0000 \tPrediction: -583968496359312849178751006644090122260356595477674801034789117707080169902291545629794742042196672037906254770749833216.0000 \tTrue: 0.9 \tWeight: 3105650639729072896012410296627600817893294843719956191842436651330559339207562136040576554898307358607974124165221318656.0000 \tWeight_change: -3211826729976220491303551162318158827836578829651669155959700368616978142463475423860521386819206065738284939510554820608.0000\n",
      "Error: 291763243355500361608465729336510573473369400900103868993807648334266895474265950553883784818988874418101455779384417171253204865709091252449297017883478151299507350097359771286053633804910684242359729769173866854875923560695575076362449321984.0000 \tPrediction: 17081078518509900068006275635174987644355285902177156256421530644212654964045776978127092518758887446086900266611584794624.0000 \tTrue: 0.9 \tWeight: -90840281212075380344895375684424220739586896745863079214182218352190447635030260477312027408881583682393168729855603245056.0000 \tWeight_change: 93945931851804457254530363963676966876416758368235181800013386048012973515018291540467637118628305163533610796740776034304.0000\n",
      "Error: 249621689893340332582025832789310430435140672924537500408928696369483226672035691062690959057446143575077016081348066422853085799785195269319467397993658839383575467537725410456183039781047426118258409620538951294859034085658441424797418655842304.0000 \tPrediction: -499621546666414610244913494184905306954295094518942462050522114283296451893377147720599159456727174813310852895211310284800.0000 \tTrue: 0.9 \tWeight: 2657078225453204462258438860556536366685155575440845723633131836510968320558644029315259105782520870106660625525652815085568.0000 \tWeight_change: -2747918506665280099475179227128969887836682746020446172062592841710644626803624301127933255101700957631131742589585312448512.0000\n",
      "Error: 213566957059370881983607296755540213101624289058414483735755151320070706918100463291568843845356510820660787515736017297457246654314216033123550211115104889135907428633114843928356658044942527976464737448469474537284489123935770591692283110475431936.0000 \tPrediction: 14613930239992624248853590886331796530583281066257523058021906487270341924661170719707796942477809352624258642295002603978752.0000 \tTrue: 0.9 \tWeight: -77719538094506229493571956707726651523893039486309787939407991070555879941900537812129880356497541435251511503289037264781312.0000 \tWeight_change: 80376616319959436891508624035574722752428941048421917882644309042466686646572896256706420855540616634981920109775568869785600.0000\n",
      "Error: 182719879699107985772471687064615940945653270152415967631104513397532724149877165830514805168392279366508879277205065447717919184574201344618886697052933828713690992426769999500205546350588620352195894416864234154558516227759272468547681840801534443520.0000 \tPrediction: -427457459519784234032134768606497848707644555702659505158553363988218891192961299580206040585435156329495332650865268573077504.0000 \tTrue: 0.9 \tWeight: 2273296489264307189201553905962672278179065437081191023470858249730560781227681015682708749281468652344116727623517309675503616.0000 \tWeight_change: -2351016027358813399906785200479733106587113702252804592404805849534557695511253781237166428721098646069776252048656722684805120.0000\n",
      "Error: 156328277075068107658410737003089464631420475171772364728700562787411047909402467727672050314516510805517934600811538121226463018025244840278296327920317494134602369649825257921008660771459251226239976566452387342601337018886207929533902462002095865200640.0000 \tPrediction: 12503130690953690442448898267946657039545409071051969141351819154312914648351978654623163765057719877953057381680527167478300672.0000 \tTrue: 0.9 \tWeight: -66493922310980996857763299658858311176098045012477708343886204824819225696439577419445306681273367470174078323128049849384042496.0000 \tWeight_change: 68767218800245299838376545234111839076327881003066946310133935430840578170201837449409442425176505435569589945246051325832069120.0000\n",
      "Error: 133748611555037987086411909205746657044085659441850297005472048799563913445155324676976283727332236400995580121097675099116135784047797504844082543184031873586203357937171846739920702456920615062334789868300703844983531135571429899464703493714145199714729984.0000 \tPrediction: -365716572710395477907882938602910260750882985344065163825976266372266646121885766108985103312285428872301882085197970362209402880.0000 \tTrue: 0.9 \tWeight: 1944947227596193891144832386616625587070945263151769089429090252010692567547336651281768589800391880644708838545145596672626130944.0000 \tWeight_change: -2011441149907175013057791133816555616906106126002864831473320821105728268665605880848280065784335645669927182860437545566483775488.0000\n",
      "Error: 114430296473557159175827274593327772114677355224653604850003858340198512514299949771818520153555083196112971922505730902303455579405117866865456863515506360793845992572627587567055076218957089648037183665111110179193289275306574428531048752813823299622543556608.0000 \tPrediction: 10697209751779066401296578126391440728890198947334729991859996386058809121510351582049727243902155343545898611998300781699443720192.0000 \tTrue: 0.9 \tWeight: -56889706407188679935175202769828626107865170853604765726993855285629216214448779228743368766676283755728476783520805129124187209728.0000 \tWeight_change: 58834653634784868901069260607135350160056103598804809181455536729459075288459440349309915919325349209589903761451495624968314552320.0000\n",
      "Error: 97902270526657756460188052838638867130448195606395605008305172549294732975119476732220232176439078317613612356502879342860581814077266268386927862011824693493216516700983518683136105408782039451057879305229732000450555694622049874398776805491472067680452705517568.0000 \tPrediction: -312893385239537719942460517036817837453738389623019308958596568838237355205321583635227642468114254949373494866906607806869034500096.0000 \tTrue: 0.9 \tWeight: 1664023912410268897954376230116107116724816272503842848784505084721016241259700143502173979299583952708624509639212460228539473461248.0000 \tWeight_change: -1720913618817457459683532843702498105995561142926606199272281128610305453629268709993752033574628402221554221767986342937779689750528.0000\n",
      "Error: 83761511327463644436169163152776655852100099084522804100254131750457992281270937152916452306364962118152471873965683804087721315166568373471879930438307713212891180293633089682828461645458992079430237835046792760521833734415384543521247865079881843774753303406051328.0000 \tPrediction: 9152131518256478938749069265638589141986489498771135668314777965965589326928350789261956886147711739897434803015668531256967104036864.0000 \tTrue: 0.9 \tWeight: -48672699438000365265165504730896133164200875970737403326946773728089725056846229197438588894512830616727266906946964461684779598741504.0000 \tWeight_change: 50336723350410634163119880961012240280925692243241246175731278812810741298105929340940762873812414569435891416586176921913319072202752.0000\n",
      "Error: 71663208035103103998128986705601267171547653864824942871393497549531964578488743490261793052162605872561670787022884019512224988139891528535188732716404262097606255561303979830527639320140608524238316895475569657839735915345588009902986434745455649731033370464907952128.0000 \tPrediction: -267699846909001998871496689742942054059670552202290584197794002265339140817891149099007465416534651869947806737669900492769522274533376.0000 \tTrue: 0.9 \tWeight: 1423676458561510547832757598639391737416513036047739736957614212818040773483450198951864282870140422491568380145930255876573468762832896.0000 \tWeight_change: -1472349157999510933271750275924261227267582443292007408485387493024439192529822651123112418771225086152399969553954028431251779398664192.0000\n",
      "Error: 61312353424532898070890970564813604122763247713170266908668371202351789983525987167570470699075429563637568984357299860801814694933721077752281878298852373719606190361790577086255843879917001238978464220383464714178192192905226592131769700777635376759295817279460668866560.0000 \tPrediction: 7830220522088308174470784172948441409285769948450810698873490222325693806075185878025729931838346988056460670811230872065102326492299264.0000 \tTrue: 0.9 \tWeight: -41642536412924182152287912026532020064725946177796329068354013284402701433103135157122981077504722710879281189195237034066213850790756352.0000 \tWeight_change: 43066212871485693668464373907762132923112148714973521678951299808179559518083844058817703616690311119487857049392854078406476809333899264.0000\n",
      "Error: 52456550376776915828359630816484853410027996291452535299224720956028430154325783137176246978557980363539918591284338655988134988927537255741590681740417767102188773950058230796038155615033071175687788405954962452555818636832733146625017838272572561182261992064039729852579840.0000 \tPrediction: -229033950271082986344084247624474572420477671959808563897712316088873780898111104120290663825228807131963926859746815071945144342864199680.0000 \tTrue: 0.9 \tWeight: 1218044190078032129121180814084100183387457681468628301862008840718568528957496249715980301220241152810526772213347662681892513234072633344.0000 \tWeight_change: -1259686726490956383576465312544072713817920443730757112162125053221229589649061368011236698769299325151475945246402179921247542321793204224.0000\n",
      "Error: 44879857381731197768518226069017456557975908604854736088787796953828839755565865848504399869384227005311592494880673255274964195452961205172015176103870942134645934784240296084571122660981437272162086173734163749983331661166535742212329463167253335098221080308368972138456023040.0000 \tPrediction: 6699243045429177205958471070149000222567498272655735531544560847163041372752825829242235083944835709349805076959875780443817841554918211584.0000 \tTrue: 0.9 \tWeight: -35627792559782446139458238418102695276267976998378636177858832122224865086751419820348164460188757287154058569500035791510771752946448203776.0000 \tWeight_change: 36845836749860475954883528466316699127951856565148625080304450587959166119438132609643875434319288051802348802709886487623422178598766772224.0000\n",
      "Error: 38397522981157407779789582308432371697046667246190754512142864184078628422020169193236449756223009910053500839755192657936703364176964947937983468976215968611932163225675809318394743926276578832354679897011278649827412812666623373207767235843667187757770935139713674594281739780096.0000 \tPrediction: -195952859078803459055468061621553615634796337753250817605461040386486512254323171207161234421528931680861005649972475634038940841392331554816.0000 \tTrue: 0.9 \tWeight: 1042112932373636652703884605008285273329626380314857321433501382002947512192691092552487243325091099378773041753460483125919149677327505424384.0000 \tWeight_change: -1077740724933419045958865340206500052452669714691552771338985576982674834507538890420372108880372190650790265145737731110132959428405289287680.0000\n",
      "Error: 32851480755566488511047379618333873306958624294157326225984756154701683436089430633749260610949788309079720780759454642486524650711301667893325078157142359457075218180099037406567446625798009195135469063446411967357435732245231707288755786413541208714471203989610553754388930395897856.0000 \tPrediction: 5731621128055001505256201322393748337467785663537022169848458181588215248624755213914738560040148780959032793360476196700880184022311416889344.0000 \tTrue: 0.9 \tWeight: -30481803271928871456974894657853689251052875912749378416661419777876244218373370993730692280400022664647469449162045677745571584039405561577472.0000 \tWeight_change: 31523916204302510309673043396809311836356647426126256287025706065007089509877252759505652758169272670255934834287974133655044352994469503565824.0000\n",
      "Error: 28106495003934350888610556910635014738435691220753889406684393703513142121960906165622380042639249054321518336848193470989448060342012421679395679985708650301842078125264800568830027680411306955952549548203677677715794534193750543169754552962513375102776392043172962982502838038580690944.0000 \tPrediction: -167649917995608790305676672453337029573745715817891402154492227356623469011132075021552686638268852155586076009317444491867039257721054974443520.0000 \tTrue: 0.9 \tWeight: 891592745703919448147394322186917360334097544063351542061590016466594093443638387185147875190765939191325888991345831670187099788469640655536128.0000 \tWeight_change: -922074548975848303358257727855621481742879809762719845655377947714295092522482965515081842047578326856123322674065036933531044645534992531718144.0000\n",
      "Error: 24046863131803586415411213797335041657240759000817778336173620212870706523088271385124285706886043372873630055242709547971504866082216401931249893139967254406145447577964126440135423249044477370113663952247638807197116995519633935062657642834969140687234359688053816552461260543661092896768.0000 \tPrediction: 4903760101371557224748452595854438567313866255762530678504720907049071436172471812139060920326614825549892961715487520816455076468167882571776000.0000 \tTrue: 0.9 \tWeight: -26079087811839648233930644958378283061957237514657002090928767559108409924139510982614826730082840081305891886092137261298477467277748781774274560.0000 \tWeight_change: 26970680557543565082700201042301269567528037424579381661330599410746964795258542543592498537499584420521212052452628626664404290750369832766537728.0000\n"
     ]
    }
   ],
   "source": [
    "input = employees_experience[0]\n",
    "true = right_employee[0]\n",
    "\n",
    "for iteration in range(epoch):\n",
    "    pred = neural_network(input, weight)\n",
    "    error = (pred - true) ** 2\n",
    "    \n",
    "    delta = pred - true # Direction\n",
    "    weight_delta = delta * input # Amount\n",
    "    weight -= weight_delta\n",
    "    \n",
    "    print(f'Error: {error:.4f} \\tPrediction: {pred:.4f}', \n",
    "          f'\\tTrue: {true} \\tWeight: {weight:.4f} \\tWeight_change: {weight_delta:.4f}')"
   ]
  },
  {
   "cell_type": "markdown",
   "id": "e8c49816",
   "metadata": {},
   "source": [
    "### Parameters"
   ]
  },
  {
   "cell_type": "code",
   "execution_count": 39,
   "id": "d62efa3e",
   "metadata": {},
   "outputs": [],
   "source": [
    "weight = 0.1\n",
    "epoch = 100\n",
    "alpha = 0.01"
   ]
  },
  {
   "cell_type": "markdown",
   "id": "194046e6",
   "metadata": {},
   "source": [
    "<img src=\"https://camo.githubusercontent.com/86fe55a27055790a831633d0cca81186a77b1b82cc09141618802386b778d4dd/687474703a2f2f692e696d6775722e636f6d2f6253694e4571362e676966\" alt=\"Drawing\" style=\"width: 300px;\"/> "
   ]
  },
  {
   "cell_type": "markdown",
   "id": "bd43259d",
   "metadata": {},
   "source": [
    "### Learning"
   ]
  },
  {
   "cell_type": "code",
   "execution_count": 40,
   "id": "a9b93498",
   "metadata": {
    "scrolled": true
   },
   "outputs": [
    {
     "name": "stdout",
     "output_type": "stream",
     "text": [
      "Error: 0.1225 \tPrediction: 0.5500 \tTrue: 0.9 \tWeight: 0.1193 \tWeight_change: -0.0192\n",
      "Error: 0.0596 \tPrediction: 0.6559 \tTrue: 0.9 \tWeight: 0.1327 \tWeight_change: -0.0134\n",
      "Error: 0.0290 \tPrediction: 0.7297 \tTrue: 0.9 \tWeight: 0.1420 \tWeight_change: -0.0094\n",
      "Error: 0.0141 \tPrediction: 0.7812 \tTrue: 0.9 \tWeight: 0.1486 \tWeight_change: -0.0065\n",
      "Error: 0.0069 \tPrediction: 0.8172 \tTrue: 0.9 \tWeight: 0.1531 \tWeight_change: -0.0046\n",
      "Error: 0.0033 \tPrediction: 0.8422 \tTrue: 0.9 \tWeight: 0.1563 \tWeight_change: -0.0032\n",
      "Error: 0.0016 \tPrediction: 0.8597 \tTrue: 0.9 \tWeight: 0.1585 \tWeight_change: -0.0022\n",
      "Error: 0.0008 \tPrediction: 0.8719 \tTrue: 0.9 \tWeight: 0.1601 \tWeight_change: -0.0015\n",
      "Error: 0.0004 \tPrediction: 0.8804 \tTrue: 0.9 \tWeight: 0.1611 \tWeight_change: -0.0011\n",
      "Error: 0.0002 \tPrediction: 0.8863 \tTrue: 0.9 \tWeight: 0.1619 \tWeight_change: -0.0008\n",
      "Error: 0.0001 \tPrediction: 0.8905 \tTrue: 0.9 \tWeight: 0.1624 \tWeight_change: -0.0005\n",
      "Error: 0.0000 \tPrediction: 0.8933 \tTrue: 0.9 \tWeight: 0.1628 \tWeight_change: -0.0004\n",
      "Error: 0.0000 \tPrediction: 0.8954 \tTrue: 0.9 \tWeight: 0.1630 \tWeight_change: -0.0003\n",
      "Error: 0.0000 \tPrediction: 0.8968 \tTrue: 0.9 \tWeight: 0.1632 \tWeight_change: -0.0002\n",
      "Error: 0.0000 \tPrediction: 0.8977 \tTrue: 0.9 \tWeight: 0.1634 \tWeight_change: -0.0001\n",
      "Error: 0.0000 \tPrediction: 0.8984 \tTrue: 0.9 \tWeight: 0.1634 \tWeight_change: -0.0001\n",
      "Error: 0.0000 \tPrediction: 0.8989 \tTrue: 0.9 \tWeight: 0.1635 \tWeight_change: -0.0001\n",
      "Error: 0.0000 \tPrediction: 0.8992 \tTrue: 0.9 \tWeight: 0.1635 \tWeight_change: -0.0000\n",
      "Error: 0.0000 \tPrediction: 0.8995 \tTrue: 0.9 \tWeight: 0.1636 \tWeight_change: -0.0000\n",
      "Error: 0.0000 \tPrediction: 0.8996 \tTrue: 0.9 \tWeight: 0.1636 \tWeight_change: -0.0000\n",
      "Error: 0.0000 \tPrediction: 0.8997 \tTrue: 0.9 \tWeight: 0.1636 \tWeight_change: -0.0000\n",
      "Error: 0.0000 \tPrediction: 0.8998 \tTrue: 0.9 \tWeight: 0.1636 \tWeight_change: -0.0000\n",
      "Error: 0.0000 \tPrediction: 0.8999 \tTrue: 0.9 \tWeight: 0.1636 \tWeight_change: -0.0000\n",
      "Error: 0.0000 \tPrediction: 0.8999 \tTrue: 0.9 \tWeight: 0.1636 \tWeight_change: -0.0000\n",
      "Error: 0.0000 \tPrediction: 0.8999 \tTrue: 0.9 \tWeight: 0.1636 \tWeight_change: -0.0000\n",
      "Error: 0.0000 \tPrediction: 0.9000 \tTrue: 0.9 \tWeight: 0.1636 \tWeight_change: -0.0000\n",
      "Error: 0.0000 \tPrediction: 0.9000 \tTrue: 0.9 \tWeight: 0.1636 \tWeight_change: -0.0000\n",
      "Error: 0.0000 \tPrediction: 0.9000 \tTrue: 0.9 \tWeight: 0.1636 \tWeight_change: -0.0000\n",
      "Error: 0.0000 \tPrediction: 0.9000 \tTrue: 0.9 \tWeight: 0.1636 \tWeight_change: -0.0000\n",
      "Error: 0.0000 \tPrediction: 0.9000 \tTrue: 0.9 \tWeight: 0.1636 \tWeight_change: -0.0000\n",
      "Error: 0.0000 \tPrediction: 0.9000 \tTrue: 0.9 \tWeight: 0.1636 \tWeight_change: -0.0000\n",
      "Error: 0.0000 \tPrediction: 0.9000 \tTrue: 0.9 \tWeight: 0.1636 \tWeight_change: -0.0000\n",
      "Error: 0.0000 \tPrediction: 0.9000 \tTrue: 0.9 \tWeight: 0.1636 \tWeight_change: -0.0000\n",
      "Error: 0.0000 \tPrediction: 0.9000 \tTrue: 0.9 \tWeight: 0.1636 \tWeight_change: -0.0000\n",
      "Error: 0.0000 \tPrediction: 0.9000 \tTrue: 0.9 \tWeight: 0.1636 \tWeight_change: -0.0000\n",
      "Error: 0.0000 \tPrediction: 0.9000 \tTrue: 0.9 \tWeight: 0.1636 \tWeight_change: -0.0000\n",
      "Error: 0.0000 \tPrediction: 0.9000 \tTrue: 0.9 \tWeight: 0.1636 \tWeight_change: -0.0000\n",
      "Error: 0.0000 \tPrediction: 0.9000 \tTrue: 0.9 \tWeight: 0.1636 \tWeight_change: -0.0000\n",
      "Error: 0.0000 \tPrediction: 0.9000 \tTrue: 0.9 \tWeight: 0.1636 \tWeight_change: -0.0000\n",
      "Error: 0.0000 \tPrediction: 0.9000 \tTrue: 0.9 \tWeight: 0.1636 \tWeight_change: -0.0000\n",
      "Error: 0.0000 \tPrediction: 0.9000 \tTrue: 0.9 \tWeight: 0.1636 \tWeight_change: -0.0000\n",
      "Error: 0.0000 \tPrediction: 0.9000 \tTrue: 0.9 \tWeight: 0.1636 \tWeight_change: -0.0000\n",
      "Error: 0.0000 \tPrediction: 0.9000 \tTrue: 0.9 \tWeight: 0.1636 \tWeight_change: -0.0000\n",
      "Error: 0.0000 \tPrediction: 0.9000 \tTrue: 0.9 \tWeight: 0.1636 \tWeight_change: -0.0000\n",
      "Error: 0.0000 \tPrediction: 0.9000 \tTrue: 0.9 \tWeight: 0.1636 \tWeight_change: -0.0000\n",
      "Error: 0.0000 \tPrediction: 0.9000 \tTrue: 0.9 \tWeight: 0.1636 \tWeight_change: -0.0000\n",
      "Error: 0.0000 \tPrediction: 0.9000 \tTrue: 0.9 \tWeight: 0.1636 \tWeight_change: -0.0000\n",
      "Error: 0.0000 \tPrediction: 0.9000 \tTrue: 0.9 \tWeight: 0.1636 \tWeight_change: -0.0000\n",
      "Error: 0.0000 \tPrediction: 0.9000 \tTrue: 0.9 \tWeight: 0.1636 \tWeight_change: -0.0000\n",
      "Error: 0.0000 \tPrediction: 0.9000 \tTrue: 0.9 \tWeight: 0.1636 \tWeight_change: -0.0000\n",
      "Error: 0.0000 \tPrediction: 0.9000 \tTrue: 0.9 \tWeight: 0.1636 \tWeight_change: -0.0000\n",
      "Error: 0.0000 \tPrediction: 0.9000 \tTrue: 0.9 \tWeight: 0.1636 \tWeight_change: -0.0000\n",
      "Error: 0.0000 \tPrediction: 0.9000 \tTrue: 0.9 \tWeight: 0.1636 \tWeight_change: -0.0000\n",
      "Error: 0.0000 \tPrediction: 0.9000 \tTrue: 0.9 \tWeight: 0.1636 \tWeight_change: -0.0000\n",
      "Error: 0.0000 \tPrediction: 0.9000 \tTrue: 0.9 \tWeight: 0.1636 \tWeight_change: -0.0000\n",
      "Error: 0.0000 \tPrediction: 0.9000 \tTrue: 0.9 \tWeight: 0.1636 \tWeight_change: -0.0000\n",
      "Error: 0.0000 \tPrediction: 0.9000 \tTrue: 0.9 \tWeight: 0.1636 \tWeight_change: -0.0000\n",
      "Error: 0.0000 \tPrediction: 0.9000 \tTrue: 0.9 \tWeight: 0.1636 \tWeight_change: -0.0000\n",
      "Error: 0.0000 \tPrediction: 0.9000 \tTrue: 0.9 \tWeight: 0.1636 \tWeight_change: -0.0000\n",
      "Error: 0.0000 \tPrediction: 0.9000 \tTrue: 0.9 \tWeight: 0.1636 \tWeight_change: -0.0000\n",
      "Error: 0.0000 \tPrediction: 0.9000 \tTrue: 0.9 \tWeight: 0.1636 \tWeight_change: -0.0000\n",
      "Error: 0.0000 \tPrediction: 0.9000 \tTrue: 0.9 \tWeight: 0.1636 \tWeight_change: -0.0000\n",
      "Error: 0.0000 \tPrediction: 0.9000 \tTrue: 0.9 \tWeight: 0.1636 \tWeight_change: -0.0000\n",
      "Error: 0.0000 \tPrediction: 0.9000 \tTrue: 0.9 \tWeight: 0.1636 \tWeight_change: -0.0000\n",
      "Error: 0.0000 \tPrediction: 0.9000 \tTrue: 0.9 \tWeight: 0.1636 \tWeight_change: -0.0000\n",
      "Error: 0.0000 \tPrediction: 0.9000 \tTrue: 0.9 \tWeight: 0.1636 \tWeight_change: -0.0000\n",
      "Error: 0.0000 \tPrediction: 0.9000 \tTrue: 0.9 \tWeight: 0.1636 \tWeight_change: -0.0000\n",
      "Error: 0.0000 \tPrediction: 0.9000 \tTrue: 0.9 \tWeight: 0.1636 \tWeight_change: -0.0000\n",
      "Error: 0.0000 \tPrediction: 0.9000 \tTrue: 0.9 \tWeight: 0.1636 \tWeight_change: -0.0000\n",
      "Error: 0.0000 \tPrediction: 0.9000 \tTrue: 0.9 \tWeight: 0.1636 \tWeight_change: -0.0000\n",
      "Error: 0.0000 \tPrediction: 0.9000 \tTrue: 0.9 \tWeight: 0.1636 \tWeight_change: -0.0000\n",
      "Error: 0.0000 \tPrediction: 0.9000 \tTrue: 0.9 \tWeight: 0.1636 \tWeight_change: -0.0000\n",
      "Error: 0.0000 \tPrediction: 0.9000 \tTrue: 0.9 \tWeight: 0.1636 \tWeight_change: -0.0000\n",
      "Error: 0.0000 \tPrediction: 0.9000 \tTrue: 0.9 \tWeight: 0.1636 \tWeight_change: -0.0000\n",
      "Error: 0.0000 \tPrediction: 0.9000 \tTrue: 0.9 \tWeight: 0.1636 \tWeight_change: -0.0000\n",
      "Error: 0.0000 \tPrediction: 0.9000 \tTrue: 0.9 \tWeight: 0.1636 \tWeight_change: -0.0000\n",
      "Error: 0.0000 \tPrediction: 0.9000 \tTrue: 0.9 \tWeight: 0.1636 \tWeight_change: -0.0000\n",
      "Error: 0.0000 \tPrediction: 0.9000 \tTrue: 0.9 \tWeight: 0.1636 \tWeight_change: -0.0000\n",
      "Error: 0.0000 \tPrediction: 0.9000 \tTrue: 0.9 \tWeight: 0.1636 \tWeight_change: -0.0000\n",
      "Error: 0.0000 \tPrediction: 0.9000 \tTrue: 0.9 \tWeight: 0.1636 \tWeight_change: -0.0000\n",
      "Error: 0.0000 \tPrediction: 0.9000 \tTrue: 0.9 \tWeight: 0.1636 \tWeight_change: -0.0000\n",
      "Error: 0.0000 \tPrediction: 0.9000 \tTrue: 0.9 \tWeight: 0.1636 \tWeight_change: -0.0000\n",
      "Error: 0.0000 \tPrediction: 0.9000 \tTrue: 0.9 \tWeight: 0.1636 \tWeight_change: -0.0000\n",
      "Error: 0.0000 \tPrediction: 0.9000 \tTrue: 0.9 \tWeight: 0.1636 \tWeight_change: -0.0000\n",
      "Error: 0.0000 \tPrediction: 0.9000 \tTrue: 0.9 \tWeight: 0.1636 \tWeight_change: -0.0000\n",
      "Error: 0.0000 \tPrediction: 0.9000 \tTrue: 0.9 \tWeight: 0.1636 \tWeight_change: -0.0000\n",
      "Error: 0.0000 \tPrediction: 0.9000 \tTrue: 0.9 \tWeight: 0.1636 \tWeight_change: -0.0000\n",
      "Error: 0.0000 \tPrediction: 0.9000 \tTrue: 0.9 \tWeight: 0.1636 \tWeight_change: -0.0000\n",
      "Error: 0.0000 \tPrediction: 0.9000 \tTrue: 0.9 \tWeight: 0.1636 \tWeight_change: -0.0000\n",
      "Error: 0.0000 \tPrediction: 0.9000 \tTrue: 0.9 \tWeight: 0.1636 \tWeight_change: -0.0000\n",
      "Error: 0.0000 \tPrediction: 0.9000 \tTrue: 0.9 \tWeight: 0.1636 \tWeight_change: -0.0000\n",
      "Error: 0.0000 \tPrediction: 0.9000 \tTrue: 0.9 \tWeight: 0.1636 \tWeight_change: -0.0000\n",
      "Error: 0.0000 \tPrediction: 0.9000 \tTrue: 0.9 \tWeight: 0.1636 \tWeight_change: -0.0000\n",
      "Error: 0.0000 \tPrediction: 0.9000 \tTrue: 0.9 \tWeight: 0.1636 \tWeight_change: -0.0000\n",
      "Error: 0.0000 \tPrediction: 0.9000 \tTrue: 0.9 \tWeight: 0.1636 \tWeight_change: -0.0000\n",
      "Error: 0.0000 \tPrediction: 0.9000 \tTrue: 0.9 \tWeight: 0.1636 \tWeight_change: -0.0000\n",
      "Error: 0.0000 \tPrediction: 0.9000 \tTrue: 0.9 \tWeight: 0.1636 \tWeight_change: -0.0000\n",
      "Error: 0.0000 \tPrediction: 0.9000 \tTrue: 0.9 \tWeight: 0.1636 \tWeight_change: -0.0000\n",
      "Error: 0.0000 \tPrediction: 0.9000 \tTrue: 0.9 \tWeight: 0.1636 \tWeight_change: -0.0000\n",
      "Error: 0.0000 \tPrediction: 0.9000 \tTrue: 0.9 \tWeight: 0.1636 \tWeight_change: -0.0000\n"
     ]
    }
   ],
   "source": [
    "input = employees_experience[0]\n",
    "true = right_employee[0]\n",
    "\n",
    "for iteration in range(epoch):\n",
    "    pred = neural_network(input, weight)\n",
    "    error = (pred - true) ** 2\n",
    "    \n",
    "    delta = pred - true\n",
    "    weight_delta = delta * input\n",
    "    \n",
    "    weight -= weight_delta * alpha\n",
    "    \n",
    "    print(f'Error: {error:.4f} \\tPrediction: {pred:.4f}', \n",
    "      f'\\tTrue: {true} \\tWeight: {weight:.4f} \\tWeight_change: {weight_delta * alpha:.4f}')"
   ]
  },
  {
   "cell_type": "markdown",
   "id": "4aee5862",
   "metadata": {},
   "source": [
    "### Let's learn it deeply"
   ]
  },
  {
   "cell_type": "raw",
   "id": "e43fc105",
   "metadata": {},
   "source": [
    "pred = neural_network(input, weight) <-> pred = input * weigth\n",
    "\n",
    "pred = input * weigth\n",
    "error = (pred - true) ** 2\n",
    "\n",
    "error = ((input * weigth) - true) ** 2\n",
    "Actually, input & true are constant\n",
    "\n",
    "error = ((5.5 * weight) - 0.9) ** 2\n",
    "\n",
    "error = (5.5weight - 0.9) ** 2\n",
    "y = (5.5x - 0.9) ** 2"
   ]
  },
  {
   "cell_type": "markdown",
   "id": "a4917923",
   "metadata": {},
   "source": [
    "### Let's plot the function"
   ]
  },
  {
   "cell_type": "code",
   "execution_count": 41,
   "id": "213e1d46",
   "metadata": {
    "scrolled": false
   },
   "outputs": [
    {
     "data": {
      "text/plain": [
       "[<matplotlib.lines.Line2D at 0x17f382e39a0>]"
      ]
     },
     "execution_count": 41,
     "metadata": {},
     "output_type": "execute_result"
    },
    {
     "data": {
      "image/png": "[encoded data removed]",
      "text/plain": [
       "<Figure size 432x288 with 1 Axes>"
      ]
     },
     "metadata": {
      "needs_background": "light"
     },
     "output_type": "display_data"
    }
   ],
   "source": [
    "import matplotlib.pyplot as plt\n",
    "\n",
    "x = np.linspace(-0.5,0.5,1000)\n",
    "y = (5.5 * x - 0.9) ** 2\n",
    "\n",
    "plt.grid()\n",
    "plt.xlabel('weight')\n",
    "plt.ylabel('error')\n",
    "plt.plot(x,y)"
   ]
  },
  {
   "cell_type": "markdown",
   "id": "75c50f97",
   "metadata": {},
   "source": [
    "# 4. What does it mean? The Most IMPORTANT part"
   ]
  },
  {
   "cell_type": "raw",
   "id": "9de7e693",
   "metadata": {},
   "source": [
    "Okay guys, let's take the derivative of this function\n",
    "error = (input * weigth - true) ** 2\n",
    "Chain rule\n",
    "    x^2 -> 2x\n",
    "    (x-1)^2  -> 2(x-1) * x^0 = 2x - 2 or\n",
    "    (x-1)^2 = x^2 - 2x + 1 -> 2x - 2\n",
    "such that\n",
    "    error = (input * weigth - true) ** 2\n",
    "    error_prime = 2 * ( input * weight - true) * input\n",
    "    error_prime = 2 * ( pred - true ) * input\n",
    "\n",
    "Therefore, the below equition is used for our algorithm\n",
    "delta = pred - true\n",
    "weight_delta = delta * input"
   ]
  },
  {
   "cell_type": "markdown",
   "id": "d8de355b",
   "metadata": {},
   "source": [
    "### Still a little unsure about it? Let's plot it"
   ]
  },
  {
   "cell_type": "code",
   "execution_count": 42,
   "id": "acee52b3",
   "metadata": {
    "scrolled": true
   },
   "outputs": [
    {
     "name": "stdout",
     "output_type": "stream",
     "text": [
      "60.5*x - 9.9\n"
     ]
    }
   ],
   "source": [
    "from sympy import Symbol\n",
    "x = Symbol('x')\n",
    "y = (5.5 * x - 0.9) ** 2\n",
    "\n",
    "yprime = y.diff(x)\n",
    "print(yprime)"
   ]
  },
  {
   "cell_type": "code",
   "execution_count": 45,
   "id": "0c570c0d",
   "metadata": {
    "scrolled": true
   },
   "outputs": [
    {
     "data": {
      "text/plain": [
       "<matplotlib.legend.Legend at 0x17f39782fa0>"
      ]
     },
     "execution_count": 45,
     "metadata": {},
     "output_type": "execute_result"
    },
    {
     "data": {
      "image/png": "[encoded data removed]",
      "text/plain": [
       "<Figure size 432x288 with 1 Axes>"
      ]
     },
     "metadata": {
      "needs_background": "light"
     },
     "output_type": "display_data"
    }
   ],
   "source": [
    "weight = -1\n",
    "weight_lookingfor = 0.9 / 5.5 \n",
    "error = (5.5 * weight - 0.9) ** 2\n",
    "error_prime = 60.5 * weight - 9.9\n",
    "\n",
    "\n",
    "# Define tangent line\n",
    "# y = m*(x - x1) + y1\n",
    "# x1 = 0, y1 = error, and m = error_prime\n",
    "\n",
    "x = np.linspace(-2,1,1000)\n",
    "y = (5.5 * x - 0.9) ** 2\n",
    "tangent_line = error_prime * (x - weight) + error\n",
    "\n",
    "plt.xlabel('weight')\n",
    "plt.ylabel('error')\n",
    "plt.grid()\n",
    "plt.plot(x,y, label='Main function')\n",
    "plt.plot(x,tangent_line, '--', label='Tangent line')\n",
    "plt.plot(weight,error, 'ro', label='Specific point')\n",
    "plt.plot(weight_lookingfor,0, 'go', label='Goal point')\n",
    "plt.legend()"
   ]
  },
  {
   "cell_type": "code",
   "execution_count": null,
   "id": "5be051e7",
   "metadata": {},
   "outputs": [],
   "source": []
  }
 ],
 "metadata": {
  "kernelspec": {
   "display_name": "Python 3",
   "language": "python",
   "name": "python3"
  },
  "language_info": {
   "codemirror_mode": {
    "name": "ipython",
    "version": 3
   },
   "file_extension": ".py",
   "mimetype": "text/x-python",
   "name": "python",
   "nbconvert_exporter": "python",
   "pygments_lexer": "ipython3",
   "version": "3.9.5"
  }
 },
 "nbformat": 4,
 "nbformat_minor": 5
}
