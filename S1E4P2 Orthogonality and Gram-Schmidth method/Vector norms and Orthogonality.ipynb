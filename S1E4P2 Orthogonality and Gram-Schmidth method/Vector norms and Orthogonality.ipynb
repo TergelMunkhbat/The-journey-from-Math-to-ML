{
 "cells": [
  {
   "cell_type": "markdown",
   "id": "211f9c01",
   "metadata": {
    "tags": []
   },
   "source": [
    "# The Journey from Mathematics to Machine Learning"
   ]
  },
  {
   "cell_type": "markdown",
   "id": "86e32cc0",
   "metadata": {},
   "source": [
    "## Series 1: Linear algebra"
   ]
  },
  {
   "cell_type": "markdown",
   "id": "592d6d6e",
   "metadata": {},
   "source": [
    "### Episode 4 Part 2: Vector norms and Orthogonality"
   ]
  },
  {
   "cell_type": "markdown",
   "id": "77e86625",
   "metadata": {},
   "source": [
    "- NLP (Jupyter Notebook)\n",
    "    1. [The Factorization A = QR](#1.-The-Factorization-A-=-QR)\n",
    "    2. [We must not forget why this is useful](#2.-We-must-not-forget-why-this-is-useful)\n",
    "\n",
    "\n",
    "    \n",
    "    "
   ]
  },
  {
   "cell_type": "markdown",
   "id": "e0267a42",
   "metadata": {},
   "source": [
    "## 1. The Factorization A = QR"
   ]
  },
  {
   "cell_type": "code",
   "execution_count": 4,
   "id": "aaad5853-b564-4cf9-a69d-0ffbd9185234",
   "metadata": {},
   "outputs": [],
   "source": [
    "import numpy as np"
   ]
  },
  {
   "cell_type": "markdown",
   "id": "9d4d14eb",
   "metadata": {},
   "source": [
    "### Data"
   ]
  },
  {
   "cell_type": "code",
   "execution_count": 5,
   "id": "29aeaa29-9cdc-4d77-adbe-134f0be3cbf9",
   "metadata": {},
   "outputs": [],
   "source": [
    "A = np.array([[1, 1], \n",
    "              [1, 0], \n",
    "              [1, 2]])"
   ]
  },
  {
   "cell_type": "code",
   "execution_count": 6,
   "id": "35e2dc5e-f63c-4a2e-b7fa-55b6c028db07",
   "metadata": {},
   "outputs": [
    {
     "data": {
      "text/plain": [
       "(3, 2)"
      ]
     },
     "execution_count": 6,
     "metadata": {},
     "output_type": "execute_result"
    }
   ],
   "source": [
    "A.shape"
   ]
  },
  {
   "cell_type": "markdown",
   "id": "e2a8cfc5-051e-49c8-ac47-eb6b4f3211b0",
   "metadata": {},
   "source": [
    "#### Preparing the input dataset"
   ]
  },
  {
   "cell_type": "code",
   "execution_count": 7,
   "id": "84e4072f-a8f6-4a6b-b4f8-e79694a72a97",
   "metadata": {
    "tags": []
   },
   "outputs": [],
   "source": [
    "def matrix_factorization_qr(A):\n",
    "    \"\"\"\n",
    "    Applies the Gram-Schmidt method to A\n",
    "    \"A\" matrix should have independet columns\n",
    "    and returns Q orthonormal bases matrix\n",
    "    and R upper triangular matrix, so A = QR\n",
    "    \"\"\"\n",
    "    \n",
    "    # A = QR -> m x n = m x n * n x n\n",
    "    Q = np.zeros(A.shape)\n",
    "    R = np.zeros((A.shape[1], A.shape[1]))\n",
    "    \n",
    "    for j in range(A.shape[1]):\n",
    "        v = A[:, j] # v begins as column j of the original A\n",
    "        for i in range(j):\n",
    "            R[i, j] = np.dot(Q[:, i], v) # compute R_ij = q_i_T * v\n",
    "            v = v - np.dot(R[i, j], Q[:, i]) # subtract the projection q_i_T * v * q_i\n",
    "        Q[:, j] = v / np.sqrt(np.dot(v, v)) # divide v by its length to get the next q_j\n",
    "        R[j, j] = np.dot(Q[:, j], A[:, j]) # calculate the diagnol entries of R\n",
    "    \n",
    "    return Q, R"
   ]
  },
  {
   "cell_type": "code",
   "execution_count": 8,
   "id": "a8e53dec-b7c0-4b1d-9fab-c30f61b81fda",
   "metadata": {},
   "outputs": [],
   "source": [
    "Q, R = matrix_factorization_qr(A)"
   ]
  },
  {
   "cell_type": "code",
   "execution_count": 9,
   "id": "361fc254-c75a-40b9-aac3-418ca3079a6c",
   "metadata": {},
   "outputs": [
    {
     "data": {
      "text/plain": [
       "array([[ 0.58, -0.  ],\n",
       "       [ 0.58, -0.71],\n",
       "       [ 0.58,  0.71]])"
      ]
     },
     "execution_count": 9,
     "metadata": {},
     "output_type": "execute_result"
    }
   ],
   "source": [
    "Q.round(2)"
   ]
  },
  {
   "cell_type": "code",
   "execution_count": 10,
   "id": "e5a58c85-1a2e-4921-90c0-c12e5fdc40a3",
   "metadata": {},
   "outputs": [
    {
     "data": {
      "text/plain": [
       "array([[1.73, 1.73],\n",
       "       [0.  , 1.41]])"
      ]
     },
     "execution_count": 10,
     "metadata": {},
     "output_type": "execute_result"
    }
   ],
   "source": [
    "R.round(2)"
   ]
  },
  {
   "cell_type": "code",
   "execution_count": 11,
   "id": "05c56043-6c65-411c-86bb-c8b5f54c662e",
   "metadata": {},
   "outputs": [
    {
     "data": {
      "text/plain": [
       "array([[1., 1.],\n",
       "       [1., 0.],\n",
       "       [1., 2.]])"
      ]
     },
     "execution_count": 11,
     "metadata": {},
     "output_type": "execute_result"
    }
   ],
   "source": [
    "np.dot(Q, R).round(2)"
   ]
  },
  {
   "cell_type": "markdown",
   "id": "00362005-d5ca-4d4b-bc3b-9e1454f2fe90",
   "metadata": {},
   "source": [
    "## 2. We must not forget why this is useful"
   ]
  },
  {
   "cell_type": "raw",
   "id": "cb866386-0424-4106-a858-16280d8cede6",
   "metadata": {},
   "source": [
    "Ex: Linear regression problem"
   ]
  },
  {
   "cell_type": "code",
   "execution_count": 1,
   "id": "bb202937-68a2-45d7-9873-8b786e392298",
   "metadata": {},
   "outputs": [],
   "source": [
    "x = [-2,  0, 1, 3]\n",
    "y = [-4, -3, 3, 0]"
   ]
  },
  {
   "cell_type": "code",
   "execution_count": 2,
   "id": "c38a1b3b-5ff1-4d44-8f1f-15018406d543",
   "metadata": {},
   "outputs": [],
   "source": [
    "import matplotlib.pyplot as plt"
   ]
  },
  {
   "cell_type": "code",
   "execution_count": 3,
   "id": "cd36b33d-f6ec-454b-9819-385a9c21dc16",
   "metadata": {},
   "outputs": [
    {
     "data": {
      "image/png": "[encoded data removed]",
      "text/plain": [
       "<Figure size 432x288 with 1 Axes>"
      ]
     },
     "metadata": {
      "needs_background": "light"
     },
     "output_type": "display_data"
    }
   ],
   "source": [
    "plt.scatter(x, y)\n",
    "plt.grid()"
   ]
  },
  {
   "cell_type": "raw",
   "id": "8244bcb0-bd17-4a0d-8d3e-816e528fbb31",
   "metadata": {},
   "source": [
    "w * x + b = y\n",
    "-2w + b = -4\n",
    "      b = -3\n",
    "  w + b = 3\n",
    " 3w + b = 0"
   ]
  },
  {
   "cell_type": "code",
   "execution_count": 12,
   "id": "e2beffca-5605-4e6a-8819-25514cd54e57",
   "metadata": {},
   "outputs": [],
   "source": [
    "A = np.array([[-2, 1],\n",
    "              [ 0, 1],\n",
    "              [ 1, 1],\n",
    "              [ 3, 1]])"
   ]
  },
  {
   "cell_type": "code",
   "execution_count": 14,
   "id": "d062b80c-0ca9-417d-8951-cf635d29d7af",
   "metadata": {},
   "outputs": [
    {
     "data": {
      "text/plain": [
       "(4, 2)"
      ]
     },
     "execution_count": 14,
     "metadata": {},
     "output_type": "execute_result"
    }
   ],
   "source": [
    "A.shape"
   ]
  },
  {
   "cell_type": "code",
   "execution_count": 15,
   "id": "b296a0eb-a415-409b-a0bd-84773ca0891c",
   "metadata": {},
   "outputs": [],
   "source": [
    "b = np.array([-4, -3, 3, 0])\n",
    "b = b.reshape(-1, 1)"
   ]
  },
  {
   "cell_type": "code",
   "execution_count": 18,
   "id": "60568168-4ba5-4b73-99bd-c7bb761831a4",
   "metadata": {},
   "outputs": [
    {
     "data": {
      "text/plain": [
       "array([[-4],\n",
       "       [-3],\n",
       "       [ 3],\n",
       "       [ 0]])"
      ]
     },
     "execution_count": 18,
     "metadata": {},
     "output_type": "execute_result"
    }
   ],
   "source": [
    "b"
   ]
  },
  {
   "cell_type": "raw",
   "id": "fe59cbc4-f1a1-47b1-8794-f0bd3e596a8c",
   "metadata": {},
   "source": [
    "Ax = b\n",
    "x -> [w, b]"
   ]
  },
  {
   "cell_type": "raw",
   "id": "deaca29a-c75f-448b-824e-bc081e0b8a97",
   "metadata": {},
   "source": [
    "best x_hat = (A_T * A)_inverse * A_T * b"
   ]
  },
  {
   "cell_type": "code",
   "execution_count": 19,
   "id": "684fe51b-bffd-4efb-b23d-5c8e690105b2",
   "metadata": {},
   "outputs": [],
   "source": [
    "x_hat = np.dot(np.dot(np.linalg.inv(np.dot(A.T, A)), A.T), b)"
   ]
  },
  {
   "cell_type": "code",
   "execution_count": 20,
   "id": "b0a2be34-3a10-4cd2-b397-29cf8605186f",
   "metadata": {},
   "outputs": [
    {
     "data": {
      "text/plain": [
       "array([[ 1. ],\n",
       "       [-1.5]])"
      ]
     },
     "execution_count": 20,
     "metadata": {},
     "output_type": "execute_result"
    }
   ],
   "source": [
    "x_hat"
   ]
  },
  {
   "cell_type": "raw",
   "id": "f885815a-22fe-4b03-9733-a7437438b6c7",
   "metadata": {},
   "source": [
    "y_pred = 1 * input - 1.5"
   ]
  },
  {
   "cell_type": "code",
   "execution_count": 21,
   "id": "bf5a3d97-ce0c-4147-b9a1-6f6c2958b517",
   "metadata": {},
   "outputs": [],
   "source": [
    "x_points = np.array([-5, 5])"
   ]
  },
  {
   "cell_type": "code",
   "execution_count": 22,
   "id": "4bda2c95-dec6-48bb-8202-a7d5dde1d2a5",
   "metadata": {},
   "outputs": [],
   "source": [
    "y_pred = x_points - 1.5"
   ]
  },
  {
   "cell_type": "code",
   "execution_count": 23,
   "id": "117638c3-872e-45f7-8718-28f55a33f1af",
   "metadata": {},
   "outputs": [
    {
     "data": {
      "image/png": "[encoded data removed]",
      "text/plain": [
       "<Figure size 432x288 with 1 Axes>"
      ]
     },
     "metadata": {
      "needs_background": "light"
     },
     "output_type": "display_data"
    }
   ],
   "source": [
    "plt.plot(x_points, y_pred)\n",
    "plt.scatter(x, y)\n",
    "plt.grid()"
   ]
  },
  {
   "cell_type": "code",
   "execution_count": 24,
   "id": "7cf3d001-4df5-4365-9311-fd770e8604a4",
   "metadata": {},
   "outputs": [],
   "source": [
    "Q, R = matrix_factorization_qr(A)"
   ]
  },
  {
   "cell_type": "code",
   "execution_count": 25,
   "id": "cd5bfba2-a88c-482c-a7cb-ab969fbb2d6b",
   "metadata": {},
   "outputs": [],
   "source": [
    "x_hat = np.dot(np.dot(np.linalg.inv(R), Q.T), b)"
   ]
  },
  {
   "cell_type": "code",
   "execution_count": 26,
   "id": "a9a50863-a1ad-420c-b615-8a99a8de11a5",
   "metadata": {},
   "outputs": [
    {
     "data": {
      "text/plain": [
       "array([[ 1. ],\n",
       "       [-1.5]])"
      ]
     },
     "execution_count": 26,
     "metadata": {},
     "output_type": "execute_result"
    }
   ],
   "source": [
    "x_hat"
   ]
  },
  {
   "cell_type": "raw",
   "id": "1e79b271-1c44-40da-baca-4bafa552e8b5",
   "metadata": {},
   "source": [
    "Main take away:\n",
    "    1. The SVD is the most important theorem in data science. Basically, it finds orthonormal bases for the column and the row space of A.\n",
    "    2. Fourier series is one of the key applications of orthigonal bases. When basis vectors are orthonormal, each coefficents can be found seperately."
   ]
  }
 ],
 "metadata": {
  "kernelspec": {
   "display_name": "Python 3 (ipykernel)",
   "language": "python",
   "name": "python3"
  },
  "language_info": {
   "codemirror_mode": {
    "name": "ipython",
    "version": 3
   },
   "file_extension": ".py",
   "mimetype": "text/x-python",
   "name": "python",
   "nbconvert_exporter": "python",
   "pygments_lexer": "ipython3",
   "version": "3.9.7"
  }
 },
 "nbformat": 4,
 "nbformat_minor": 5
}
