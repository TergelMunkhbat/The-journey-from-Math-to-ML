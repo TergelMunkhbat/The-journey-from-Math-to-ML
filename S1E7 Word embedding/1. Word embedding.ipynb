{
 "cells": [
  {
   "cell_type": "markdown",
   "id": "211f9c01",
   "metadata": {},
   "source": [
    "# The Journey from Mathematics to Machine Learning"
   ]
  },
  {
   "cell_type": "markdown",
   "id": "86e32cc0",
   "metadata": {},
   "source": [
    "## Series 1: Linear algebra"
   ]
  },
  {
   "cell_type": "markdown",
   "id": "592d6d6e",
   "metadata": {},
   "source": [
    "### Episode 7: Word Embedding"
   ]
  },
  {
   "cell_type": "markdown",
   "id": "77e86625",
   "metadata": {},
   "source": [
    "- NLP (Jupyter Notebook)\n",
    "    1. [Predicting IMDB Movie reviews using MLP](#1.-Predicting-IMDB-Movie-reviews-using-MLP)\n",
    "    2. [Hidden layers arrange the inputs into n groups](#2.-Hidden-layers-arrange-the-inputs-into-n-groups)\n",
    "\n",
    "\n",
    "    \n",
    "    "
   ]
  },
  {
   "cell_type": "raw",
   "id": "bff7fa3d-bfe1-4c14-ba82-9c16c06cad80",
   "metadata": {
    "tags": []
   },
   "source": [
    "# A few problems\n",
    "Text -> Numbers (Characters, words...)\n",
    "Length is not constant"
   ]
  },
  {
   "cell_type": "markdown",
   "id": "e0267a42",
   "metadata": {},
   "source": [
    "## 1. Predicting IMDB Movie reviews using MLP"
   ]
  },
  {
   "cell_type": "code",
   "execution_count": 1,
   "id": "aaad5853-b564-4cf9-a69d-0ffbd9185234",
   "metadata": {},
   "outputs": [],
   "source": [
    "import numpy as np"
   ]
  },
  {
   "cell_type": "markdown",
   "id": "9d4d14eb",
   "metadata": {},
   "source": [
    "### Data"
   ]
  },
  {
   "cell_type": "code",
   "execution_count": 2,
   "id": "29aeaa29-9cdc-4d77-adbe-134f0be3cbf9",
   "metadata": {},
   "outputs": [],
   "source": [
    "with open('dataset/reviews.txt') as f:\n",
    "    raw_reviews = f.readlines()\n",
    "with open('dataset/labels.txt') as f:\n",
    "    raw_labels = f.readlines()"
   ]
  },
  {
   "cell_type": "code",
   "execution_count": 3,
   "id": "b3b86ac2-3529-4c1a-852f-f1cbaf2d87ce",
   "metadata": {
    "tags": []
   },
   "outputs": [
    {
     "data": {
      "text/plain": [
       "'story of a man who has unnatural feelings for a pig . starts out with a opening scene that is a terrific example of absurd comedy . a formal orchestra audience is turned into an insane  violent mob by the crazy chantings of it  s singers . unfortunately it stays absurd the whole time with no general narrative eventually making it just too off putting . even those from the era should be turned off . the cryptic dialogue would make shakespeare seem easy to a third grader . on a technical level it  s better than you might think with some good cinematography by future great vilmos zsigmond . future stars sally kirkland and frederic forrest can be seen briefly .  \\n'"
      ]
     },
     "execution_count": 3,
     "metadata": {},
     "output_type": "execute_result"
    }
   ],
   "source": [
    "raw_reviews[1]"
   ]
  },
  {
   "cell_type": "markdown",
   "id": "e2a8cfc5-051e-49c8-ac47-eb6b4f3211b0",
   "metadata": {},
   "source": [
    "#### Creating an input vector"
   ]
  },
  {
   "cell_type": "code",
   "execution_count": 3,
   "id": "34204eee-1a0d-48eb-a0ae-1c639bbe5c95",
   "metadata": {},
   "outputs": [],
   "source": [
    "onehots = {}\n",
    "onehots['goy'] = np.array([1, 0, 0, 0])\n",
    "onehots['muuhai'] = np.array([0, 1, 0, 0])\n",
    "onehots['kino'] = np.array([0, 0, 1, 0])\n",
    "onehots['baina'] = np.array([0, 0, 0, 1])"
   ]
  },
  {
   "cell_type": "code",
   "execution_count": 4,
   "id": "ea75d5cf-c7eb-4d78-af1f-7d4dee2d1daf",
   "metadata": {},
   "outputs": [],
   "source": [
    "sentence = ['goy', 'kino', 'baina']"
   ]
  },
  {
   "cell_type": "code",
   "execution_count": 5,
   "id": "afa497a3-855e-42f3-a901-f7a2a9410537",
   "metadata": {},
   "outputs": [
    {
     "data": {
      "text/plain": [
       "array([1, 0, 1, 1])"
      ]
     },
     "execution_count": 5,
     "metadata": {},
     "output_type": "execute_result"
    }
   ],
   "source": [
    "x = np.array([0, 0, 0, 0])\n",
    "for i in range(len(sentence)):\n",
    "    x += onehots[sentence[i]]\n",
    "x"
   ]
  },
  {
   "cell_type": "code",
   "execution_count": 13,
   "id": "84e4072f-a8f6-4a6b-b4f8-e79694a72a97",
   "metadata": {
    "tags": []
   },
   "outputs": [
    {
     "data": {
      "text/plain": [
       "92"
      ]
     },
     "execution_count": 13,
     "metadata": {},
     "output_type": "execute_result"
    }
   ],
   "source": [
    "tokens = []\n",
    "for review in raw_reviews:\n",
    "    review = set(review.split(' '))\n",
    "    review.remove('')\n",
    "    tokens.append(list(review))\n",
    "len(tokens[1])"
   ]
  },
  {
   "cell_type": "code",
   "execution_count": 14,
   "id": "4a37952f-910a-46a9-b591-a6474ce9e255",
   "metadata": {},
   "outputs": [],
   "source": [
    "words = set()\n",
    "for review in tokens:\n",
    "    for word in review:\n",
    "        words.add(word)\n",
    "words = list(words)"
   ]
  },
  {
   "cell_type": "code",
   "execution_count": 15,
   "id": "2aec93b5-66b9-4d57-9c46-ac0f7e2ec778",
   "metadata": {},
   "outputs": [
    {
     "data": {
      "text/plain": [
       "74074"
      ]
     },
     "execution_count": 15,
     "metadata": {},
     "output_type": "execute_result"
    }
   ],
   "source": [
    "len(words)"
   ]
  },
  {
   "cell_type": "code",
   "execution_count": 16,
   "id": "f8a53383-448b-443d-9c72-b686e9e90e77",
   "metadata": {},
   "outputs": [],
   "source": [
    "word_to_index = {}\n",
    "for i, word in enumerate(words):\n",
    "    word_to_index[word] = i"
   ]
  },
  {
   "cell_type": "code",
   "execution_count": 17,
   "id": "4baca38f-ae85-4c8c-8947-8ba10949fb86",
   "metadata": {
    "tags": []
   },
   "outputs": [
    {
     "data": {
      "text/plain": [
       "74074"
      ]
     },
     "execution_count": 17,
     "metadata": {},
     "output_type": "execute_result"
    }
   ],
   "source": [
    "len(word_to_index)"
   ]
  },
  {
   "cell_type": "code",
   "execution_count": 18,
   "id": "3c1395a0-a947-46ba-bff8-f14efd7c4391",
   "metadata": {},
   "outputs": [
    {
     "data": {
      "text/plain": [
       "25000"
      ]
     },
     "execution_count": 18,
     "metadata": {},
     "output_type": "execute_result"
    }
   ],
   "source": [
    "len(tokens)"
   ]
  },
  {
   "cell_type": "code",
   "execution_count": 19,
   "id": "7a3934a3-add0-4ffd-aee1-42a5b9215f6c",
   "metadata": {},
   "outputs": [],
   "source": [
    "input_dataset = np.zeros((len(tokens), len(words)))"
   ]
  },
  {
   "cell_type": "code",
   "execution_count": 20,
   "id": "994ce255-6614-43a0-a291-bac22e6edd77",
   "metadata": {
    "tags": []
   },
   "outputs": [],
   "source": [
    "for i, review in enumerate(tokens):\n",
    "    for word in review:\n",
    "        input_dataset[i, word_to_index[word]] = 1"
   ]
  },
  {
   "cell_type": "code",
   "execution_count": 27,
   "id": "bef1b18c-d496-4af0-a789-08c613f9e61a",
   "metadata": {},
   "outputs": [
    {
     "data": {
      "text/plain": [
       "66451"
      ]
     },
     "execution_count": 27,
     "metadata": {},
     "output_type": "execute_result"
    }
   ],
   "source": [
    "word_to_index['of']"
   ]
  },
  {
   "cell_type": "code",
   "execution_count": 28,
   "id": "d886c45f-2aca-40ba-b5ce-0184315c17e9",
   "metadata": {},
   "outputs": [
    {
     "data": {
      "text/plain": [
       "1.0"
      ]
     },
     "execution_count": 28,
     "metadata": {},
     "output_type": "execute_result"
    }
   ],
   "source": [
    "input_dataset[1][66451]"
   ]
  },
  {
   "cell_type": "code",
   "execution_count": 22,
   "id": "6384b4eb-3bbf-4354-95fc-41e573dcae32",
   "metadata": {},
   "outputs": [
    {
     "data": {
      "text/plain": [
       "array([0., 0., 0., ..., 0., 0., 0.])"
      ]
     },
     "execution_count": 22,
     "metadata": {},
     "output_type": "execute_result"
    }
   ],
   "source": [
    "input_dataset[0]"
   ]
  },
  {
   "cell_type": "code",
   "execution_count": 29,
   "id": "912208e3-758c-4572-a28b-ad41d8a1ca71",
   "metadata": {},
   "outputs": [],
   "source": [
    "target_dataset = np.array([])\n",
    "for label in raw_labels:\n",
    "    if label == 'positive\\n':\n",
    "        target_dataset = np.append(target_dataset, 1)\n",
    "    else:\n",
    "        target_dataset = np.append(target_dataset, 0)"
   ]
  },
  {
   "cell_type": "code",
   "execution_count": 30,
   "id": "5d490843-516f-402e-9693-e89647def7b3",
   "metadata": {},
   "outputs": [
    {
     "data": {
      "text/plain": [
       "(25000,)"
      ]
     },
     "execution_count": 30,
     "metadata": {},
     "output_type": "execute_result"
    }
   ],
   "source": [
    "target_dataset.shape"
   ]
  },
  {
   "cell_type": "code",
   "execution_count": 31,
   "id": "0eea8e89-9a96-44f2-86eb-b7b27493d7de",
   "metadata": {},
   "outputs": [],
   "source": [
    "target_dataset = target_dataset.reshape(25000, 1)"
   ]
  },
  {
   "cell_type": "code",
   "execution_count": 32,
   "id": "ea146891-3fe9-4cec-a058-39a2a21fa879",
   "metadata": {},
   "outputs": [],
   "source": [
    "train_dataset = input_dataset[:24000]\n",
    "train_labels = target_dataset[:24000]\n",
    "\n",
    "test_dataset = input_dataset[24000:]\n",
    "test_labels = target_dataset[24000:]"
   ]
  },
  {
   "cell_type": "code",
   "execution_count": 33,
   "id": "c8a7c1f4-9198-4f5b-8e87-82e7e8cd3c9d",
   "metadata": {},
   "outputs": [
    {
     "data": {
      "text/plain": [
       "(24000, 74074)"
      ]
     },
     "execution_count": 33,
     "metadata": {},
     "output_type": "execute_result"
    }
   ],
   "source": [
    "train_dataset.shape"
   ]
  },
  {
   "cell_type": "markdown",
   "id": "a7a99a88",
   "metadata": {
    "tags": []
   },
   "source": [
    "### Network"
   ]
  },
  {
   "cell_type": "markdown",
   "id": "1a6e74b5-5b22-4e3f-930b-8ded882e5840",
   "metadata": {
    "tags": []
   },
   "source": [
    "#### Linear Layer"
   ]
  },
  {
   "cell_type": "code",
   "execution_count": 34,
   "id": "25bc4847-a10f-454b-b274-fb66fbdba1a3",
   "metadata": {},
   "outputs": [],
   "source": [
    "class Layer_Linear:\n",
    "    \"\"\"Representing a neural network layer\"\"\"\n",
    "    \n",
    "    def __init__(self, n_inputs, n_outputs):\n",
    "        \"\"\"Initlize weights and bias\"\"\"\n",
    "        self.weights = 0.01 * np.random.randn(n_inputs, n_outputs)\n",
    "        self.biases = np.zeros((1, n_outputs))\n",
    "    \n",
    "    def forward(self, inputs):\n",
    "        \"\"\"\n",
    "        It multiplies the inputs by the weights \n",
    "        and then sums them, and then sums bias.\n",
    "        \"\"\"\n",
    "        #To calculate gradient, remembering input values\n",
    "        self.inputs = inputs\n",
    "        #Calculate outputs' values\n",
    "        self.output = np.dot(inputs, self.weights) + self.biases\n",
    "    \n",
    "    def backward(self, dvalues):\n",
    "        \"\"\"Gradient with respect to parameters and input\"\"\"\n",
    "        self.dweights = np.dot(self.inputs.T, dvalues)\n",
    "        self.dbiases = np.sum(dvalues, axis=0, keepdims=True)\n",
    "        self.dresults = np.dot(dvalues, self.weights.T)"
   ]
  },
  {
   "cell_type": "markdown",
   "id": "c17d39a0-102e-4bca-a872-44d884cfd41f",
   "metadata": {},
   "source": [
    "#### Activation functions"
   ]
  },
  {
   "cell_type": "code",
   "execution_count": 35,
   "id": "d3286089-ddcb-4688-bac7-389cbc3371a0",
   "metadata": {},
   "outputs": [],
   "source": [
    "class Activation_ReLU:\n",
    "    \"\"\"ReLU activation\"\"\"\n",
    "    \n",
    "    def forward(self, inputs):\n",
    "        \"\"\"Forward pass\"\"\"\n",
    "        \n",
    "        #To calculate gradient, remembering input values\n",
    "        self.inputs = inputs\n",
    "        \n",
    "        #Calculate outputs' values\n",
    "        self.output = np.maximum(0, inputs)\n",
    "        \n",
    "    def backward(self, dvalues):\n",
    "        \"\"\"Backward pass\"\"\"\n",
    "        \n",
    "        self.dresults = self.inputs > 0\n",
    "        self.dresults = self.dresults * dvalues"
   ]
  },
  {
   "cell_type": "code",
   "execution_count": 36,
   "id": "570ae286-c64d-4ced-8136-5cef2473fa5f",
   "metadata": {},
   "outputs": [],
   "source": [
    "class Activation_Sigmoid:\n",
    "    \"\"\"Sigmoid activation\"\"\"\n",
    "    \n",
    "    def forward(self, inputs):\n",
    "        \"\"\"Forward pass\"\"\"\n",
    "        \n",
    "        #Calculate outputs' values\n",
    "        self.output = 1 / (1 + np.exp(-inputs))\n",
    "    \n",
    "    def backward(self, dvalues):\n",
    "        \"\"\"Backward pass\"\"\"\n",
    "        \n",
    "        self.dresults = dvalues * (1 - self.output) * self.output"
   ]
  },
  {
   "cell_type": "markdown",
   "id": "abe07a4b-7e7d-4e66-9155-915cc43536ee",
   "metadata": {},
   "source": [
    "#### Loss function"
   ]
  },
  {
   "cell_type": "code",
   "execution_count": 37,
   "id": "4c05443b-dfab-40c0-807e-86e98a9addff",
   "metadata": {},
   "outputs": [],
   "source": [
    "class Loss_MSE():\n",
    "    \"\"\"MSE Loss function\"\"\"\n",
    "    \n",
    "    def forward(self, y_pred, y_true):\n",
    "        \"\"\"Forward pass\"\"\"     \n",
    "        error = np.mean((y_pred - y_true) ** 2)\n",
    "        return error\n",
    "    \n",
    "    def backward(self, y_pred, y_true):\n",
    "        \"\"\"Derivative of MSE with respect to preds\"\"\"\n",
    "        \n",
    "        #Number of samples\n",
    "        samples = len(y_pred)\n",
    "        \n",
    "        #Number of output nodes\n",
    "        outputs = len(y_pred[0])\n",
    "        \n",
    "        #Derivative of MSE\n",
    "        self.dresults = 2 * (y_pred - y_true) / (outputs * samples)"
   ]
  },
  {
   "cell_type": "markdown",
   "id": "6f28cdac-2be6-45ae-8244-67b01667aa66",
   "metadata": {},
   "source": [
    "#### Optimizer"
   ]
  },
  {
   "cell_type": "code",
   "execution_count": 38,
   "id": "010d7844-5d0d-49a0-b223-826118c4e823",
   "metadata": {},
   "outputs": [],
   "source": [
    "class Optimizer_GD:\n",
    "    \"\"\"Gradient descent optimizer\"\"\"\n",
    "    \n",
    "    def __init__(self, alpha=1.):\n",
    "        \"\"\"Initialize hyperparameters\"\"\"\n",
    "        self.alpha = alpha\n",
    "\n",
    "    def update_parameters(self, layer):\n",
    "        \"\"\"Update parameters\"\"\"\n",
    "        \n",
    "        weights_delta = layer.dweights * self.alpha\n",
    "        biases_delta = layer.dbiases * self.alpha\n",
    "        \n",
    "        #Update parameters\n",
    "        layer.weights -= weights_delta\n",
    "        layer.biases -= biases_delta"
   ]
  },
  {
   "cell_type": "markdown",
   "id": "569fabc1",
   "metadata": {},
   "source": [
    "### Hyperparameter"
   ]
  },
  {
   "cell_type": "code",
   "execution_count": 39,
   "id": "800fd1c1",
   "metadata": {},
   "outputs": [],
   "source": [
    "max_epoch = 5\n",
    "alpha = 1\n",
    "batch_size = 128"
   ]
  },
  {
   "cell_type": "markdown",
   "id": "a6c3207d-c8cb-4f18-abb5-02ff21f78155",
   "metadata": {
    "tags": []
   },
   "source": [
    "### Initialize the model"
   ]
  },
  {
   "cell_type": "code",
   "execution_count": 40,
   "id": "e99c9752-70d2-422e-98b4-4646796cfa2a",
   "metadata": {},
   "outputs": [],
   "source": [
    "layer1 = Layer_Linear(len(words), 100)\n",
    "activation1 = Activation_ReLU()\n",
    "\n",
    "layer2 = Layer_Linear(100, 1)\n",
    "activation2 = Activation_Sigmoid()"
   ]
  },
  {
   "cell_type": "markdown",
   "id": "6dca296f-6e61-417c-9f84-f79bfe54a4af",
   "metadata": {},
   "source": [
    "#### Initlize optimizer and loss function"
   ]
  },
  {
   "cell_type": "code",
   "execution_count": 41,
   "id": "f3259810-66ae-4de8-b480-3c37f5579bac",
   "metadata": {},
   "outputs": [],
   "source": [
    "loss = Loss_MSE()\n",
    "optimizer = Optimizer_GD(alpha)"
   ]
  },
  {
   "cell_type": "markdown",
   "id": "6d2580f1",
   "metadata": {
    "tags": []
   },
   "source": [
    "### Training the model"
   ]
  },
  {
   "cell_type": "code",
   "execution_count": 42,
   "id": "4dfd3289-17bf-4bf0-a7dc-70842648aa11",
   "metadata": {},
   "outputs": [],
   "source": [
    "train_steps = len(train_dataset) // batch_size\n",
    "if train_steps * batch_size < len(train_dataset):\n",
    "    train_steps += 1"
   ]
  },
  {
   "cell_type": "code",
   "execution_count": 43,
   "id": "5e766463",
   "metadata": {
    "tags": []
   },
   "outputs": [
    {
     "name": "stdout",
     "output_type": "stream",
     "text": [
      "epoch: 0, Train error: 0.169, Train accuracy: 0.750\n",
      "epoch: 1, Train error: 0.102, Train accuracy: 0.857\n",
      "epoch: 2, Train error: 0.088, Train accuracy: 0.880\n",
      "epoch: 3, Train error: 0.073, Train accuracy: 0.901\n",
      "epoch: 4, Train error: 0.067, Train accuracy: 0.912\n"
     ]
    }
   ],
   "source": [
    "for epoch in range(max_epoch):\n",
    "    train_error = 0\n",
    "    train_accuracy = 0\n",
    "    \n",
    "    for i in range(train_steps):\n",
    "        batch_start = i * batch_size\n",
    "        batch_end = (i+1) * batch_size\n",
    "        \n",
    "        input = train_dataset[batch_start:batch_end]\n",
    "        true = train_labels[batch_start:batch_end]\n",
    "        \n",
    "        #Forward pass\n",
    "        layer1.forward(input)\n",
    "        activation1.forward(layer1.output)\n",
    "        layer2.forward(activation1.output)\n",
    "        activation2.forward(layer2.output)\n",
    "        train_error += loss.forward(activation2.output, true) / train_steps\n",
    "        train_accuracy += np.mean((np.abs(activation2.output - true) < 0.5)) / train_steps\n",
    "        \n",
    "        #Backward pass\n",
    "        loss.backward(activation2.output, true)\n",
    "        activation2.backward(loss.dresults)\n",
    "        layer2.backward(activation2.dresults)\n",
    "        activation1.backward(layer2.dresults)\n",
    "        layer1.backward(activation1.dresults)\n",
    "        \n",
    "        #Update parameters\n",
    "        optimizer.update_parameters(layer2)\n",
    "        optimizer.update_parameters(layer1)\n",
    "\n",
    "    print(f'epoch: {epoch},',\n",
    "          f'Train error: {train_error:.3f},',\n",
    "          f'Train accuracy: {train_accuracy:.3f}')"
   ]
  },
  {
   "cell_type": "markdown",
   "id": "1b8d7d7e-1c28-4ae0-b41e-9806661baf1a",
   "metadata": {},
   "source": [
    "#### Testing the model"
   ]
  },
  {
   "cell_type": "code",
   "execution_count": 44,
   "id": "9bb7fc60-52f1-477e-9b53-d69524e814d5",
   "metadata": {},
   "outputs": [],
   "source": [
    "test_steps = len(test_dataset) // batch_size\n",
    "if test_steps * batch_size < len(test_dataset):\n",
    "    test_steps += 1"
   ]
  },
  {
   "cell_type": "code",
   "execution_count": 45,
   "id": "083e8e8f-2651-4485-80dc-1111b9483067",
   "metadata": {},
   "outputs": [],
   "source": [
    "test_error = 0\n",
    "test_accuracy = 0\n",
    "\n",
    "for i in range(test_steps):\n",
    "    batch_start = i * batch_size\n",
    "    batch_end = (i+1) * batch_size\n",
    "    \n",
    "    input = test_dataset[batch_start:batch_end]\n",
    "    true = test_labels[batch_start:batch_end]\n",
    "    \n",
    "    layer1.forward(input)\n",
    "    activation1.forward(layer1.output)\n",
    "    layer2.forward(activation1.output)\n",
    "    activation2.forward(layer2.output)\n",
    "    test_error += loss.forward(activation2.output, true) / test_steps\n",
    "    test_accuracy += np.mean((np.abs(activation2.output - true) < 0.5)) / test_steps"
   ]
  },
  {
   "cell_type": "code",
   "execution_count": 46,
   "id": "4a5ede72-c0a3-4450-b2c7-f82b75900225",
   "metadata": {},
   "outputs": [
    {
     "name": "stdout",
     "output_type": "stream",
     "text": [
      "Test error: 0.104, Test accuracy: 0.856\n"
     ]
    }
   ],
   "source": [
    "print(f'Test error: {test_error:.3f},',\n",
    "      f'Test accuracy: {test_accuracy:.3f}')"
   ]
  },
  {
   "cell_type": "markdown",
   "id": "00362005-d5ca-4d4b-bc3b-9e1454f2fe90",
   "metadata": {},
   "source": [
    "## 2. Hidden layers arrange the inputs into n groups"
   ]
  },
  {
   "cell_type": "code",
   "execution_count": 47,
   "id": "89a1e9d0-1f84-4027-9474-30a89b406b1b",
   "metadata": {},
   "outputs": [],
   "source": [
    "from collections import Counter"
   ]
  },
  {
   "cell_type": "code",
   "execution_count": 48,
   "id": "41d60e2a-dd42-460a-bc68-d5881d52823c",
   "metadata": {},
   "outputs": [],
   "source": [
    "def similar(target):\n",
    "    target_index = word_to_index[target]\n",
    "    scores = Counter()\n",
    "    for word, index in word_to_index.items():\n",
    "        # Finding Euclidian distance\n",
    "        scores[word] = -np.linalg.norm(layer1.weights[index] - layer1.weights[target_index])\n",
    "    \n",
    "    return scores.most_common(10)"
   ]
  },
  {
   "cell_type": "code",
   "execution_count": 59,
   "id": "c620b66e-9cb7-4197-a345-3ee2740dd6d1",
   "metadata": {},
   "outputs": [
    {
     "data": {
      "text/plain": [
       "[('beautiful', -0.0),\n",
       " ('simple', -0.15756997816719837),\n",
       " ('rare', -0.15994443117106263),\n",
       " ('incredible', -0.16189580683292984),\n",
       " ('gem', -0.162012927740108),\n",
       " ('outstanding', -0.16350230494142096),\n",
       " ('fascinating', -0.1655773494339012),\n",
       " ('wonderfully', -0.16764800929627918),\n",
       " ('perfectly', -0.17070829170698965),\n",
       " ('atmosphere', -0.17081418194987413)]"
      ]
     },
     "execution_count": 59,
     "metadata": {},
     "output_type": "execute_result"
    }
   ],
   "source": [
    "similar('beautiful')"
   ]
  },
  {
   "cell_type": "code",
   "execution_count": 51,
   "id": "ca6363e5-7dcc-47c3-980e-0f670209f1c8",
   "metadata": {},
   "outputs": [
    {
     "data": {
      "text/plain": [
       "49117"
      ]
     },
     "execution_count": 51,
     "metadata": {},
     "output_type": "execute_result"
    }
   ],
   "source": [
    "word_to_index['awful']"
   ]
  },
  {
   "cell_type": "code",
   "execution_count": 52,
   "id": "aecec41b-00db-4a90-a563-e87e630efdfd",
   "metadata": {},
   "outputs": [
    {
     "data": {
      "text/plain": [
       "array([ 5.25710747e-03, -1.14596470e-01,  2.24749474e-01, -1.68935070e-02,\n",
       "       -2.42389878e-01, -1.91099164e-02,  2.29718264e-02, -1.98708680e-02,\n",
       "        9.43995150e-02, -6.64210755e-03, -1.95678445e-02,  4.22047664e-02,\n",
       "       -1.42102439e-03,  5.36124642e-03, -2.44279500e-02, -3.56612759e-02,\n",
       "        2.53704457e-01, -1.55112412e-02, -1.50616782e-02,  6.65445547e-02,\n",
       "        1.10166254e-01, -9.34819122e-02,  5.40347562e-04,  1.06614235e-02,\n",
       "        2.01549685e-02, -1.65747549e-02,  7.70526567e-03,  4.94103107e-03,\n",
       "       -4.13244380e-02,  2.06007513e-01,  1.78370370e-02, -1.63409992e-02,\n",
       "        1.98568766e-02,  9.89469855e-05,  1.04508375e-01,  2.58538966e-01,\n",
       "        3.59075505e-02, -1.38368283e-01, -1.01778427e-01, -1.94255591e-01,\n",
       "        2.43674410e-04, -1.30854354e-01, -6.18705622e-02,  6.47655404e-02,\n",
       "       -5.96987364e-03, -2.74385033e-01, -1.16894042e-01,  1.68015554e-03,\n",
       "        9.57189529e-02, -2.01779319e-01, -6.05386545e-03, -6.56515929e-03,\n",
       "       -1.27046693e-04,  5.99458151e-02,  2.48541800e-02,  4.35542792e-03,\n",
       "       -1.36088015e-01,  7.13263921e-03, -1.70044236e-02,  2.31836576e-03,\n",
       "       -6.46431552e-02,  3.26335363e-02,  3.20117624e-03,  1.26242062e-02,\n",
       "        1.67956081e-01,  1.27546216e-01,  1.98892128e-02, -9.24325866e-03,\n",
       "       -8.00107898e-02, -1.19402831e-02,  9.44051511e-03, -2.78310361e-02,\n",
       "        2.92904586e-02, -1.01586934e-02, -3.26407874e-02,  2.42979461e-01,\n",
       "        1.75485498e-01, -2.83499707e-02, -8.89096005e-02,  1.15208047e-03,\n",
       "       -3.35442466e-02, -1.49208721e-01, -5.56453169e-03,  8.65782552e-02,\n",
       "       -3.12209864e-02,  1.05718443e-01, -2.76922610e-03,  2.65003258e-02,\n",
       "       -1.67816092e-02, -1.00561073e-02, -1.67774142e-01,  1.27055802e-01,\n",
       "        4.29233732e-03,  8.94672730e-03,  1.52761568e-01,  2.97376263e-02,\n",
       "       -1.37557346e-02,  6.84397573e-02, -2.00067162e-02, -6.61320653e-03])"
      ]
     },
     "execution_count": 52,
     "metadata": {},
     "output_type": "execute_result"
    }
   ],
   "source": [
    "layer1.weights[49117]"
   ]
  },
  {
   "cell_type": "raw",
   "id": "264c954b-bf11-4710-a8eb-8667fe810451",
   "metadata": {},
   "source": [
    "Hidden layer searches for useful groupings\n",
    "    -> input <-> output (correlation)\n",
    "    -> sequence\n",
    "    goy kino, muuhai bish baina\n",
    "    muuhai kino, goy bish baina\n",
    "two words are similiar if their weights are similiar (linking same groups)"
   ]
  },
  {
   "cell_type": "raw",
   "id": "0a97344e-65cd-45ac-92ec-c96367aabd3b",
   "metadata": {},
   "source": [
    "    The key takeaway\n",
    "ANNs hugely depend on target labels\n",
    "    question: postive or negative -> really good target label to understand language?"
   ]
  }
 ],
 "metadata": {
  "kernelspec": {
   "display_name": "Python 3 (ipykernel)",
   "language": "python",
   "name": "python3"
  },
  "language_info": {
   "codemirror_mode": {
    "name": "ipython",
    "version": 3
   },
   "file_extension": ".py",
   "mimetype": "text/x-python",
   "name": "python",
   "nbconvert_exporter": "python",
   "pygments_lexer": "ipython3",
   "version": "3.9.7"
  }
 },
 "nbformat": 4,
 "nbformat_minor": 5
}
